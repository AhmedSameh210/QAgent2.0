{
  "nbformat": 4,
  "nbformat_minor": 0,
  "metadata": {
    "colab": {
      "provenance": []
    },
    "kernelspec": {
      "name": "python3",
      "display_name": "Python 3"
    },
    "language_info": {
      "name": "python"
    }
  },
  "cells": [
    {
      "cell_type": "code",
      "source": [
        "!pip install chromadb\n"
      ],
      "metadata": {
        "colab": {
          "base_uri": "https://localhost:8080/"
        },
        "id": "heKfyuWI-7mV",
        "outputId": "baffb5a6-4e6a-4d45-8f50-5049dde100f9"
      },
      "execution_count": 1,
      "outputs": [
        {
          "output_type": "stream",
          "name": "stdout",
          "text": [
            "Collecting chromadb\n",
            "  Downloading chromadb-0.5.23-py3-none-any.whl.metadata (6.8 kB)\n",
            "Collecting build>=1.0.3 (from chromadb)\n",
            "  Downloading build-1.2.2.post1-py3-none-any.whl.metadata (6.5 kB)\n",
            "Requirement already satisfied: pydantic>=1.9 in /usr/local/lib/python3.10/dist-packages (from chromadb) (2.10.3)\n",
            "Collecting chroma-hnswlib==0.7.6 (from chromadb)\n",
            "  Downloading chroma_hnswlib-0.7.6-cp310-cp310-manylinux_2_17_x86_64.manylinux2014_x86_64.whl.metadata (252 bytes)\n",
            "Collecting fastapi>=0.95.2 (from chromadb)\n",
            "  Downloading fastapi-0.115.6-py3-none-any.whl.metadata (27 kB)\n",
            "Collecting uvicorn>=0.18.3 (from uvicorn[standard]>=0.18.3->chromadb)\n",
            "  Downloading uvicorn-0.32.1-py3-none-any.whl.metadata (6.6 kB)\n",
            "Requirement already satisfied: numpy>=1.22.5 in /usr/local/lib/python3.10/dist-packages (from chromadb) (1.26.4)\n",
            "Collecting posthog>=2.4.0 (from chromadb)\n",
            "  Downloading posthog-3.7.4-py2.py3-none-any.whl.metadata (2.0 kB)\n",
            "Requirement already satisfied: typing_extensions>=4.5.0 in /usr/local/lib/python3.10/dist-packages (from chromadb) (4.12.2)\n",
            "Collecting onnxruntime>=1.14.1 (from chromadb)\n",
            "  Downloading onnxruntime-1.20.1-cp310-cp310-manylinux_2_27_x86_64.manylinux_2_28_x86_64.whl.metadata (4.5 kB)\n",
            "Requirement already satisfied: opentelemetry-api>=1.2.0 in /usr/local/lib/python3.10/dist-packages (from chromadb) (1.28.2)\n",
            "Collecting opentelemetry-exporter-otlp-proto-grpc>=1.2.0 (from chromadb)\n",
            "  Downloading opentelemetry_exporter_otlp_proto_grpc-1.28.2-py3-none-any.whl.metadata (2.2 kB)\n",
            "Collecting opentelemetry-instrumentation-fastapi>=0.41b0 (from chromadb)\n",
            "  Downloading opentelemetry_instrumentation_fastapi-0.49b2-py3-none-any.whl.metadata (2.1 kB)\n",
            "Requirement already satisfied: opentelemetry-sdk>=1.2.0 in /usr/local/lib/python3.10/dist-packages (from chromadb) (1.28.2)\n",
            "Requirement already satisfied: tokenizers<=0.20.3,>=0.13.2 in /usr/local/lib/python3.10/dist-packages (from chromadb) (0.20.3)\n",
            "Collecting pypika>=0.48.9 (from chromadb)\n",
            "  Downloading PyPika-0.48.9.tar.gz (67 kB)\n",
            "\u001b[2K     \u001b[90m━━━━━━━━━━━━━━━━━━━━━━━━━━━━━━━━━━━━━━━━\u001b[0m \u001b[32m67.3/67.3 kB\u001b[0m \u001b[31m3.7 MB/s\u001b[0m eta \u001b[36m0:00:00\u001b[0m\n",
            "\u001b[?25h  Installing build dependencies ... \u001b[?25l\u001b[?25hdone\n",
            "  Getting requirements to build wheel ... \u001b[?25l\u001b[?25hdone\n",
            "  Preparing metadata (pyproject.toml) ... \u001b[?25l\u001b[?25hdone\n",
            "Requirement already satisfied: tqdm>=4.65.0 in /usr/local/lib/python3.10/dist-packages (from chromadb) (4.66.6)\n",
            "Collecting overrides>=7.3.1 (from chromadb)\n",
            "  Downloading overrides-7.7.0-py3-none-any.whl.metadata (5.8 kB)\n",
            "Requirement already satisfied: importlib-resources in /usr/local/lib/python3.10/dist-packages (from chromadb) (6.4.5)\n",
            "Requirement already satisfied: grpcio>=1.58.0 in /usr/local/lib/python3.10/dist-packages (from chromadb) (1.68.1)\n",
            "Collecting bcrypt>=4.0.1 (from chromadb)\n",
            "  Downloading bcrypt-4.2.1-cp39-abi3-manylinux_2_28_x86_64.whl.metadata (9.8 kB)\n",
            "Requirement already satisfied: typer>=0.9.0 in /usr/local/lib/python3.10/dist-packages (from chromadb) (0.15.0)\n",
            "Collecting kubernetes>=28.1.0 (from chromadb)\n",
            "  Downloading kubernetes-31.0.0-py2.py3-none-any.whl.metadata (1.5 kB)\n",
            "Requirement already satisfied: tenacity>=8.2.3 in /usr/local/lib/python3.10/dist-packages (from chromadb) (9.0.0)\n",
            "Requirement already satisfied: PyYAML>=6.0.0 in /usr/local/lib/python3.10/dist-packages (from chromadb) (6.0.2)\n",
            "Collecting mmh3>=4.0.1 (from chromadb)\n",
            "  Downloading mmh3-5.0.1-cp310-cp310-manylinux_2_5_x86_64.manylinux1_x86_64.manylinux_2_17_x86_64.manylinux2014_x86_64.whl.metadata (14 kB)\n",
            "Requirement already satisfied: orjson>=3.9.12 in /usr/local/lib/python3.10/dist-packages (from chromadb) (3.10.12)\n",
            "Requirement already satisfied: httpx>=0.27.0 in /usr/local/lib/python3.10/dist-packages (from chromadb) (0.28.0)\n",
            "Requirement already satisfied: rich>=10.11.0 in /usr/local/lib/python3.10/dist-packages (from chromadb) (13.9.4)\n",
            "Requirement already satisfied: packaging>=19.1 in /usr/local/lib/python3.10/dist-packages (from build>=1.0.3->chromadb) (24.2)\n",
            "Collecting pyproject_hooks (from build>=1.0.3->chromadb)\n",
            "  Downloading pyproject_hooks-1.2.0-py3-none-any.whl.metadata (1.3 kB)\n",
            "Requirement already satisfied: tomli>=1.1.0 in /usr/local/lib/python3.10/dist-packages (from build>=1.0.3->chromadb) (2.2.1)\n",
            "Collecting starlette<0.42.0,>=0.40.0 (from fastapi>=0.95.2->chromadb)\n",
            "  Downloading starlette-0.41.3-py3-none-any.whl.metadata (6.0 kB)\n",
            "Requirement already satisfied: anyio in /usr/local/lib/python3.10/dist-packages (from httpx>=0.27.0->chromadb) (3.7.1)\n",
            "Requirement already satisfied: certifi in /usr/local/lib/python3.10/dist-packages (from httpx>=0.27.0->chromadb) (2024.8.30)\n",
            "Requirement already satisfied: httpcore==1.* in /usr/local/lib/python3.10/dist-packages (from httpx>=0.27.0->chromadb) (1.0.7)\n",
            "Requirement already satisfied: idna in /usr/local/lib/python3.10/dist-packages (from httpx>=0.27.0->chromadb) (3.10)\n",
            "Requirement already satisfied: h11<0.15,>=0.13 in /usr/local/lib/python3.10/dist-packages (from httpcore==1.*->httpx>=0.27.0->chromadb) (0.14.0)\n",
            "Requirement already satisfied: six>=1.9.0 in /usr/local/lib/python3.10/dist-packages (from kubernetes>=28.1.0->chromadb) (1.16.0)\n",
            "Requirement already satisfied: python-dateutil>=2.5.3 in /usr/local/lib/python3.10/dist-packages (from kubernetes>=28.1.0->chromadb) (2.8.2)\n",
            "Requirement already satisfied: google-auth>=1.0.1 in /usr/local/lib/python3.10/dist-packages (from kubernetes>=28.1.0->chromadb) (2.27.0)\n",
            "Requirement already satisfied: websocket-client!=0.40.0,!=0.41.*,!=0.42.*,>=0.32.0 in /usr/local/lib/python3.10/dist-packages (from kubernetes>=28.1.0->chromadb) (1.8.0)\n",
            "Requirement already satisfied: requests in /usr/local/lib/python3.10/dist-packages (from kubernetes>=28.1.0->chromadb) (2.32.3)\n",
            "Requirement already satisfied: requests-oauthlib in /usr/local/lib/python3.10/dist-packages (from kubernetes>=28.1.0->chromadb) (1.3.1)\n",
            "Requirement already satisfied: oauthlib>=3.2.2 in /usr/local/lib/python3.10/dist-packages (from kubernetes>=28.1.0->chromadb) (3.2.2)\n",
            "Requirement already satisfied: urllib3>=1.24.2 in /usr/local/lib/python3.10/dist-packages (from kubernetes>=28.1.0->chromadb) (2.2.3)\n",
            "Collecting durationpy>=0.7 (from kubernetes>=28.1.0->chromadb)\n",
            "  Downloading durationpy-0.9-py3-none-any.whl.metadata (338 bytes)\n",
            "Collecting coloredlogs (from onnxruntime>=1.14.1->chromadb)\n",
            "  Downloading coloredlogs-15.0.1-py2.py3-none-any.whl.metadata (12 kB)\n",
            "Requirement already satisfied: flatbuffers in /usr/local/lib/python3.10/dist-packages (from onnxruntime>=1.14.1->chromadb) (24.3.25)\n",
            "Requirement already satisfied: protobuf in /usr/local/lib/python3.10/dist-packages (from onnxruntime>=1.14.1->chromadb) (4.25.5)\n",
            "Requirement already satisfied: sympy in /usr/local/lib/python3.10/dist-packages (from onnxruntime>=1.14.1->chromadb) (1.13.1)\n",
            "Requirement already satisfied: deprecated>=1.2.6 in /usr/local/lib/python3.10/dist-packages (from opentelemetry-api>=1.2.0->chromadb) (1.2.15)\n",
            "Requirement already satisfied: importlib-metadata<=8.5.0,>=6.0 in /usr/local/lib/python3.10/dist-packages (from opentelemetry-api>=1.2.0->chromadb) (8.5.0)\n",
            "Requirement already satisfied: googleapis-common-protos~=1.52 in /usr/local/lib/python3.10/dist-packages (from opentelemetry-exporter-otlp-proto-grpc>=1.2.0->chromadb) (1.66.0)\n",
            "Collecting opentelemetry-exporter-otlp-proto-common==1.28.2 (from opentelemetry-exporter-otlp-proto-grpc>=1.2.0->chromadb)\n",
            "  Downloading opentelemetry_exporter_otlp_proto_common-1.28.2-py3-none-any.whl.metadata (1.8 kB)\n",
            "Collecting opentelemetry-proto==1.28.2 (from opentelemetry-exporter-otlp-proto-grpc>=1.2.0->chromadb)\n",
            "  Downloading opentelemetry_proto-1.28.2-py3-none-any.whl.metadata (2.3 kB)\n",
            "Collecting protobuf (from onnxruntime>=1.14.1->chromadb)\n",
            "  Downloading protobuf-5.29.1-cp38-abi3-manylinux2014_x86_64.whl.metadata (592 bytes)\n",
            "Collecting opentelemetry-instrumentation-asgi==0.49b2 (from opentelemetry-instrumentation-fastapi>=0.41b0->chromadb)\n",
            "  Downloading opentelemetry_instrumentation_asgi-0.49b2-py3-none-any.whl.metadata (1.9 kB)\n",
            "Collecting opentelemetry-instrumentation==0.49b2 (from opentelemetry-instrumentation-fastapi>=0.41b0->chromadb)\n",
            "  Downloading opentelemetry_instrumentation-0.49b2-py3-none-any.whl.metadata (6.1 kB)\n",
            "Requirement already satisfied: opentelemetry-semantic-conventions==0.49b2 in /usr/local/lib/python3.10/dist-packages (from opentelemetry-instrumentation-fastapi>=0.41b0->chromadb) (0.49b2)\n",
            "Collecting opentelemetry-util-http==0.49b2 (from opentelemetry-instrumentation-fastapi>=0.41b0->chromadb)\n",
            "  Downloading opentelemetry_util_http-0.49b2-py3-none-any.whl.metadata (2.5 kB)\n",
            "Requirement already satisfied: wrapt<2.0.0,>=1.0.0 in /usr/local/lib/python3.10/dist-packages (from opentelemetry-instrumentation==0.49b2->opentelemetry-instrumentation-fastapi>=0.41b0->chromadb) (1.17.0)\n",
            "Collecting asgiref~=3.0 (from opentelemetry-instrumentation-asgi==0.49b2->opentelemetry-instrumentation-fastapi>=0.41b0->chromadb)\n",
            "  Downloading asgiref-3.8.1-py3-none-any.whl.metadata (9.3 kB)\n",
            "Collecting monotonic>=1.5 (from posthog>=2.4.0->chromadb)\n",
            "  Downloading monotonic-1.6-py2.py3-none-any.whl.metadata (1.5 kB)\n",
            "Collecting backoff>=1.10.0 (from posthog>=2.4.0->chromadb)\n",
            "  Downloading backoff-2.2.1-py3-none-any.whl.metadata (14 kB)\n",
            "Requirement already satisfied: annotated-types>=0.6.0 in /usr/local/lib/python3.10/dist-packages (from pydantic>=1.9->chromadb) (0.7.0)\n",
            "Requirement already satisfied: pydantic-core==2.27.1 in /usr/local/lib/python3.10/dist-packages (from pydantic>=1.9->chromadb) (2.27.1)\n",
            "Requirement already satisfied: markdown-it-py>=2.2.0 in /usr/local/lib/python3.10/dist-packages (from rich>=10.11.0->chromadb) (3.0.0)\n",
            "Requirement already satisfied: pygments<3.0.0,>=2.13.0 in /usr/local/lib/python3.10/dist-packages (from rich>=10.11.0->chromadb) (2.18.0)\n",
            "Requirement already satisfied: huggingface-hub<1.0,>=0.16.4 in /usr/local/lib/python3.10/dist-packages (from tokenizers<=0.20.3,>=0.13.2->chromadb) (0.26.3)\n",
            "Requirement already satisfied: click>=8.0.0 in /usr/local/lib/python3.10/dist-packages (from typer>=0.9.0->chromadb) (8.1.7)\n",
            "Requirement already satisfied: shellingham>=1.3.0 in /usr/local/lib/python3.10/dist-packages (from typer>=0.9.0->chromadb) (1.5.4)\n",
            "Collecting httptools>=0.6.3 (from uvicorn[standard]>=0.18.3->chromadb)\n",
            "  Downloading httptools-0.6.4-cp310-cp310-manylinux_2_5_x86_64.manylinux1_x86_64.manylinux_2_17_x86_64.manylinux2014_x86_64.whl.metadata (3.6 kB)\n",
            "Collecting python-dotenv>=0.13 (from uvicorn[standard]>=0.18.3->chromadb)\n",
            "  Downloading python_dotenv-1.0.1-py3-none-any.whl.metadata (23 kB)\n",
            "Collecting uvloop!=0.15.0,!=0.15.1,>=0.14.0 (from uvicorn[standard]>=0.18.3->chromadb)\n",
            "  Downloading uvloop-0.21.0-cp310-cp310-manylinux_2_17_x86_64.manylinux2014_x86_64.whl.metadata (4.9 kB)\n",
            "Collecting watchfiles>=0.13 (from uvicorn[standard]>=0.18.3->chromadb)\n",
            "  Downloading watchfiles-1.0.0-cp310-cp310-manylinux_2_17_x86_64.manylinux2014_x86_64.whl.metadata (4.9 kB)\n",
            "Collecting websockets>=10.4 (from uvicorn[standard]>=0.18.3->chromadb)\n",
            "  Downloading websockets-14.1-cp310-cp310-manylinux_2_5_x86_64.manylinux1_x86_64.manylinux_2_17_x86_64.manylinux2014_x86_64.whl.metadata (6.7 kB)\n",
            "Requirement already satisfied: cachetools<6.0,>=2.0.0 in /usr/local/lib/python3.10/dist-packages (from google-auth>=1.0.1->kubernetes>=28.1.0->chromadb) (5.5.0)\n",
            "Requirement already satisfied: pyasn1-modules>=0.2.1 in /usr/local/lib/python3.10/dist-packages (from google-auth>=1.0.1->kubernetes>=28.1.0->chromadb) (0.4.1)\n",
            "Requirement already satisfied: rsa<5,>=3.1.4 in /usr/local/lib/python3.10/dist-packages (from google-auth>=1.0.1->kubernetes>=28.1.0->chromadb) (4.9)\n",
            "Requirement already satisfied: filelock in /usr/local/lib/python3.10/dist-packages (from huggingface-hub<1.0,>=0.16.4->tokenizers<=0.20.3,>=0.13.2->chromadb) (3.16.1)\n",
            "Requirement already satisfied: fsspec>=2023.5.0 in /usr/local/lib/python3.10/dist-packages (from huggingface-hub<1.0,>=0.16.4->tokenizers<=0.20.3,>=0.13.2->chromadb) (2024.10.0)\n",
            "Requirement already satisfied: zipp>=3.20 in /usr/local/lib/python3.10/dist-packages (from importlib-metadata<=8.5.0,>=6.0->opentelemetry-api>=1.2.0->chromadb) (3.21.0)\n",
            "Requirement already satisfied: mdurl~=0.1 in /usr/local/lib/python3.10/dist-packages (from markdown-it-py>=2.2.0->rich>=10.11.0->chromadb) (0.1.2)\n",
            "Requirement already satisfied: charset-normalizer<4,>=2 in /usr/local/lib/python3.10/dist-packages (from requests->kubernetes>=28.1.0->chromadb) (3.4.0)\n",
            "Requirement already satisfied: sniffio>=1.1 in /usr/local/lib/python3.10/dist-packages (from anyio->httpx>=0.27.0->chromadb) (1.3.1)\n",
            "Requirement already satisfied: exceptiongroup in /usr/local/lib/python3.10/dist-packages (from anyio->httpx>=0.27.0->chromadb) (1.2.2)\n",
            "Collecting humanfriendly>=9.1 (from coloredlogs->onnxruntime>=1.14.1->chromadb)\n",
            "  Downloading humanfriendly-10.0-py2.py3-none-any.whl.metadata (9.2 kB)\n",
            "Requirement already satisfied: mpmath<1.4,>=1.1.0 in /usr/local/lib/python3.10/dist-packages (from sympy->onnxruntime>=1.14.1->chromadb) (1.3.0)\n",
            "Requirement already satisfied: pyasn1<0.7.0,>=0.4.6 in /usr/local/lib/python3.10/dist-packages (from pyasn1-modules>=0.2.1->google-auth>=1.0.1->kubernetes>=28.1.0->chromadb) (0.6.1)\n",
            "Downloading chromadb-0.5.23-py3-none-any.whl (628 kB)\n",
            "\u001b[2K   \u001b[90m━━━━━━━━━━━━━━━━━━━━━━━━━━━━━━━━━━━━━━━━\u001b[0m \u001b[32m628.3/628.3 kB\u001b[0m \u001b[31m17.7 MB/s\u001b[0m eta \u001b[36m0:00:00\u001b[0m\n",
            "\u001b[?25hDownloading chroma_hnswlib-0.7.6-cp310-cp310-manylinux_2_17_x86_64.manylinux2014_x86_64.whl (2.4 MB)\n",
            "\u001b[2K   \u001b[90m━━━━━━━━━━━━━━━━━━━━━━━━━━━━━━━━━━━━━━━━\u001b[0m \u001b[32m2.4/2.4 MB\u001b[0m \u001b[31m31.4 MB/s\u001b[0m eta \u001b[36m0:00:00\u001b[0m\n",
            "\u001b[?25hDownloading bcrypt-4.2.1-cp39-abi3-manylinux_2_28_x86_64.whl (278 kB)\n",
            "\u001b[2K   \u001b[90m━━━━━━━━━━━━━━━━━━━━━━━━━━━━━━━━━━━━━━━━\u001b[0m \u001b[32m278.6/278.6 kB\u001b[0m \u001b[31m17.0 MB/s\u001b[0m eta \u001b[36m0:00:00\u001b[0m\n",
            "\u001b[?25hDownloading build-1.2.2.post1-py3-none-any.whl (22 kB)\n",
            "Downloading fastapi-0.115.6-py3-none-any.whl (94 kB)\n",
            "\u001b[2K   \u001b[90m━━━━━━━━━━━━━━━━━━━━━━━━━━━━━━━━━━━━━━━━\u001b[0m \u001b[32m94.8/94.8 kB\u001b[0m \u001b[31m6.7 MB/s\u001b[0m eta \u001b[36m0:00:00\u001b[0m\n",
            "\u001b[?25hDownloading kubernetes-31.0.0-py2.py3-none-any.whl (1.9 MB)\n",
            "\u001b[2K   \u001b[90m━━━━━━━━━━━━━━━━━━━━━━━━━━━━━━━━━━━━━━━━\u001b[0m \u001b[32m1.9/1.9 MB\u001b[0m \u001b[31m29.1 MB/s\u001b[0m eta \u001b[36m0:00:00\u001b[0m\n",
            "\u001b[?25hDownloading mmh3-5.0.1-cp310-cp310-manylinux_2_5_x86_64.manylinux1_x86_64.manylinux_2_17_x86_64.manylinux2014_x86_64.whl (93 kB)\n",
            "\u001b[2K   \u001b[90m━━━━━━━━━━━━━━━━━━━━━━━━━━━━━━━━━━━━━━━━\u001b[0m \u001b[32m93.2/93.2 kB\u001b[0m \u001b[31m5.0 MB/s\u001b[0m eta \u001b[36m0:00:00\u001b[0m\n",
            "\u001b[?25hDownloading onnxruntime-1.20.1-cp310-cp310-manylinux_2_27_x86_64.manylinux_2_28_x86_64.whl (13.3 MB)\n",
            "\u001b[2K   \u001b[90m━━━━━━━━━━━━━━━━━━━━━━━━━━━━━━━━━━━━━━━━\u001b[0m \u001b[32m13.3/13.3 MB\u001b[0m \u001b[31m39.5 MB/s\u001b[0m eta \u001b[36m0:00:00\u001b[0m\n",
            "\u001b[?25hDownloading opentelemetry_exporter_otlp_proto_grpc-1.28.2-py3-none-any.whl (18 kB)\n",
            "Downloading opentelemetry_exporter_otlp_proto_common-1.28.2-py3-none-any.whl (18 kB)\n",
            "Downloading opentelemetry_proto-1.28.2-py3-none-any.whl (55 kB)\n",
            "\u001b[2K   \u001b[90m━━━━━━━━━━━━━━━━━━━━━━━━━━━━━━━━━━━━━━━━\u001b[0m \u001b[32m55.8/55.8 kB\u001b[0m \u001b[31m3.3 MB/s\u001b[0m eta \u001b[36m0:00:00\u001b[0m\n",
            "\u001b[?25hDownloading opentelemetry_instrumentation_fastapi-0.49b2-py3-none-any.whl (12 kB)\n",
            "Downloading opentelemetry_instrumentation-0.49b2-py3-none-any.whl (30 kB)\n",
            "Downloading opentelemetry_instrumentation_asgi-0.49b2-py3-none-any.whl (16 kB)\n",
            "Downloading opentelemetry_util_http-0.49b2-py3-none-any.whl (6.9 kB)\n",
            "Downloading overrides-7.7.0-py3-none-any.whl (17 kB)\n",
            "Downloading posthog-3.7.4-py2.py3-none-any.whl (54 kB)\n",
            "\u001b[2K   \u001b[90m━━━━━━━━━━━━━━━━━━━━━━━━━━━━━━━━━━━━━━━━\u001b[0m \u001b[32m54.8/54.8 kB\u001b[0m \u001b[31m2.9 MB/s\u001b[0m eta \u001b[36m0:00:00\u001b[0m\n",
            "\u001b[?25hDownloading uvicorn-0.32.1-py3-none-any.whl (63 kB)\n",
            "\u001b[2K   \u001b[90m━━━━━━━━━━━━━━━━━━━━━━━━━━━━━━━━━━━━━━━━\u001b[0m \u001b[32m63.8/63.8 kB\u001b[0m \u001b[31m4.0 MB/s\u001b[0m eta \u001b[36m0:00:00\u001b[0m\n",
            "\u001b[?25hDownloading backoff-2.2.1-py3-none-any.whl (15 kB)\n",
            "Downloading durationpy-0.9-py3-none-any.whl (3.5 kB)\n",
            "Downloading httptools-0.6.4-cp310-cp310-manylinux_2_5_x86_64.manylinux1_x86_64.manylinux_2_17_x86_64.manylinux2014_x86_64.whl (442 kB)\n",
            "\u001b[2K   \u001b[90m━━━━━━━━━━━━━━━━━━━━━━━━━━━━━━━━━━━━━━━━\u001b[0m \u001b[32m442.1/442.1 kB\u001b[0m \u001b[31m18.8 MB/s\u001b[0m eta \u001b[36m0:00:00\u001b[0m\n",
            "\u001b[?25hDownloading monotonic-1.6-py2.py3-none-any.whl (8.2 kB)\n",
            "Downloading protobuf-5.29.1-cp38-abi3-manylinux2014_x86_64.whl (319 kB)\n",
            "\u001b[2K   \u001b[90m━━━━━━━━━━━━━━━━━━━━━━━━━━━━━━━━━━━━━━━━\u001b[0m \u001b[32m319.7/319.7 kB\u001b[0m \u001b[31m14.8 MB/s\u001b[0m eta \u001b[36m0:00:00\u001b[0m\n",
            "\u001b[?25hDownloading python_dotenv-1.0.1-py3-none-any.whl (19 kB)\n",
            "Downloading starlette-0.41.3-py3-none-any.whl (73 kB)\n",
            "\u001b[2K   \u001b[90m━━━━━━━━━━━━━━━━━━━━━━━━━━━━━━━━━━━━━━━━\u001b[0m \u001b[32m73.2/73.2 kB\u001b[0m \u001b[31m4.7 MB/s\u001b[0m eta \u001b[36m0:00:00\u001b[0m\n",
            "\u001b[?25hDownloading uvloop-0.21.0-cp310-cp310-manylinux_2_17_x86_64.manylinux2014_x86_64.whl (3.8 MB)\n",
            "\u001b[2K   \u001b[90m━━━━━━━━━━━━━━━━━━━━━━━━━━━━━━━━━━━━━━━━\u001b[0m \u001b[32m3.8/3.8 MB\u001b[0m \u001b[31m37.9 MB/s\u001b[0m eta \u001b[36m0:00:00\u001b[0m\n",
            "\u001b[?25hDownloading watchfiles-1.0.0-cp310-cp310-manylinux_2_17_x86_64.manylinux2014_x86_64.whl (442 kB)\n",
            "\u001b[2K   \u001b[90m━━━━━━━━━━━━━━━━━━━━━━━━━━━━━━━━━━━━━━━━\u001b[0m \u001b[32m442.6/442.6 kB\u001b[0m \u001b[31m17.4 MB/s\u001b[0m eta \u001b[36m0:00:00\u001b[0m\n",
            "\u001b[?25hDownloading websockets-14.1-cp310-cp310-manylinux_2_5_x86_64.manylinux1_x86_64.manylinux_2_17_x86_64.manylinux2014_x86_64.whl (168 kB)\n",
            "\u001b[2K   \u001b[90m━━━━━━━━━━━━━━━━━━━━━━━━━━━━━━━━━━━━━━━━\u001b[0m \u001b[32m168.2/168.2 kB\u001b[0m \u001b[31m10.0 MB/s\u001b[0m eta \u001b[36m0:00:00\u001b[0m\n",
            "\u001b[?25hDownloading coloredlogs-15.0.1-py2.py3-none-any.whl (46 kB)\n",
            "\u001b[2K   \u001b[90m━━━━━━━━━━━━━━━━━━━━━━━━━━━━━━━━━━━━━━━━\u001b[0m \u001b[32m46.0/46.0 kB\u001b[0m \u001b[31m2.6 MB/s\u001b[0m eta \u001b[36m0:00:00\u001b[0m\n",
            "\u001b[?25hDownloading pyproject_hooks-1.2.0-py3-none-any.whl (10 kB)\n",
            "Downloading asgiref-3.8.1-py3-none-any.whl (23 kB)\n",
            "Downloading humanfriendly-10.0-py2.py3-none-any.whl (86 kB)\n",
            "\u001b[2K   \u001b[90m━━━━━━━━━━━━━━━━━━━━━━━━━━━━━━━━━━━━━━━━\u001b[0m \u001b[32m86.8/86.8 kB\u001b[0m \u001b[31m4.0 MB/s\u001b[0m eta \u001b[36m0:00:00\u001b[0m\n",
            "\u001b[?25hBuilding wheels for collected packages: pypika\n",
            "  Building wheel for pypika (pyproject.toml) ... \u001b[?25l\u001b[?25hdone\n",
            "  Created wheel for pypika: filename=PyPika-0.48.9-py2.py3-none-any.whl size=53725 sha256=6bbed0ba18373bdf340100912fce2fcfc49c8df78c3a7c7f434fdb7fb4c18e6d\n",
            "  Stored in directory: /root/.cache/pip/wheels/e1/26/51/d0bffb3d2fd82256676d7ad3003faea3bd6dddc9577af665f4\n",
            "Successfully built pypika\n",
            "Installing collected packages: pypika, monotonic, durationpy, websockets, uvloop, uvicorn, python-dotenv, pyproject_hooks, protobuf, overrides, opentelemetry-util-http, mmh3, humanfriendly, httptools, chroma-hnswlib, bcrypt, backoff, asgiref, watchfiles, starlette, posthog, opentelemetry-proto, coloredlogs, build, opentelemetry-exporter-otlp-proto-common, onnxruntime, kubernetes, fastapi, opentelemetry-instrumentation, opentelemetry-instrumentation-asgi, opentelemetry-exporter-otlp-proto-grpc, opentelemetry-instrumentation-fastapi, chromadb\n",
            "  Attempting uninstall: protobuf\n",
            "    Found existing installation: protobuf 4.25.5\n",
            "    Uninstalling protobuf-4.25.5:\n",
            "      Successfully uninstalled protobuf-4.25.5\n",
            "\u001b[31mERROR: pip's dependency resolver does not currently take into account all the packages that are installed. This behaviour is the source of the following dependency conflicts.\n",
            "tensorflow 2.17.1 requires protobuf!=4.21.0,!=4.21.1,!=4.21.2,!=4.21.3,!=4.21.4,!=4.21.5,<5.0.0dev,>=3.20.3, but you have protobuf 5.29.1 which is incompatible.\n",
            "tensorflow-metadata 1.13.1 requires protobuf<5,>=3.20.3, but you have protobuf 5.29.1 which is incompatible.\u001b[0m\u001b[31m\n",
            "\u001b[0mSuccessfully installed asgiref-3.8.1 backoff-2.2.1 bcrypt-4.2.1 build-1.2.2.post1 chroma-hnswlib-0.7.6 chromadb-0.5.23 coloredlogs-15.0.1 durationpy-0.9 fastapi-0.115.6 httptools-0.6.4 humanfriendly-10.0 kubernetes-31.0.0 mmh3-5.0.1 monotonic-1.6 onnxruntime-1.20.1 opentelemetry-exporter-otlp-proto-common-1.28.2 opentelemetry-exporter-otlp-proto-grpc-1.28.2 opentelemetry-instrumentation-0.49b2 opentelemetry-instrumentation-asgi-0.49b2 opentelemetry-instrumentation-fastapi-0.49b2 opentelemetry-proto-1.28.2 opentelemetry-util-http-0.49b2 overrides-7.7.0 posthog-3.7.4 protobuf-5.29.1 pypika-0.48.9 pyproject_hooks-1.2.0 python-dotenv-1.0.1 starlette-0.41.3 uvicorn-0.32.1 uvloop-0.21.0 watchfiles-1.0.0 websockets-14.1\n"
          ]
        }
      ]
    },
    {
      "cell_type": "code",
      "source": [
        "import random\n",
        "import chromadb\n",
        "import os"
      ],
      "metadata": {
        "id": "K0DaKMnb-4GS"
      },
      "execution_count": 2,
      "outputs": []
    },
    {
      "cell_type": "code",
      "source": [
        "from google.colab import drive\n",
        "drive.mount('/content/drive')"
      ],
      "metadata": {
        "colab": {
          "base_uri": "https://localhost:8080/"
        },
        "id": "onbZcXYQDseG",
        "outputId": "5901f63a-998b-4ab7-810a-68b276c423b7"
      },
      "execution_count": 3,
      "outputs": [
        {
          "output_type": "stream",
          "name": "stdout",
          "text": [
            "Mounted at /content/drive\n"
          ]
        }
      ]
    },
    {
      "cell_type": "code",
      "execution_count": 145,
      "metadata": {
        "id": "Y_ZekTjm9ZSi"
      },
      "outputs": [],
      "source": [
        "def delete_ids_that_from_file(db_path, collection_name, input_file=\"deleted_ids.txt\"):\n",
        "    \"\"\"\n",
        "    Reads IDs from a file and deletes them from a specified collection.\n",
        "\n",
        "    Args:\n",
        "        db_path (str): Path to the Chroma DB database.\n",
        "        collection_name (str): Name of the collection to modify.\n",
        "        input_file (str): Path to the file containing IDs to delete.\n",
        "    \"\"\"\n",
        "    # Step 1: Ensure the file exists\n",
        "    if not os.path.exists(input_file):\n",
        "        print(f\"File {input_file} does not exist.\")\n",
        "        return\n",
        "\n",
        "    # Step 2: Load the IDs from the file\n",
        "    with open(input_file, \"r\") as file:\n",
        "        ids_to_delete = file.read().splitlines()\n",
        "\n",
        "    if not ids_to_delete:\n",
        "        print(\"No IDs found in the file to delete.\")\n",
        "        return\n",
        "\n",
        "    print(f\"Loaded {len(ids_to_delete)} IDs from {input_file}.\")\n",
        "\n",
        "    # Step 3: Load the Chroma DB client using PersistentClient with the correct path\n",
        "    client = chromadb.PersistentClient(path=db_path)\n",
        "\n",
        "    # Step 4: Retrieve the collection\n",
        "    collection = client.get_collection(collection_name)\n",
        "    # Step 3: Get all document IDs from the collection by fetching all documents\n",
        "    all_indices = collection.get(ids=None)  # This retrieves all documents, including their IDs\n",
        "    document_ids = all_indices['ids']  # Extract document IDs\n",
        "\n",
        "    # Count the number of documents before deletion\n",
        "    initial_count = len(document_ids)\n",
        "    print(f\"Initial number of documents: {initial_count}\")\n",
        "\n",
        "\n",
        "    # Step 5: Delete the IDs from the collection\n",
        "    for doc_id in ids_to_delete:\n",
        "        collection.delete(ids=[doc_id])\n",
        "\n",
        "    print(f\"Deleted {len(ids_to_delete)} IDs from the collection '{collection_name}'.\")\n",
        "\n",
        "     # Step 7: Count the number of documents after deletion\n",
        "    all_indices_after_deletion = collection.get(ids=None)  # Fetch remaining documents\n",
        "    remaining_document_ids = all_indices_after_deletion['ids']\n",
        "    remaining_count = len(remaining_document_ids)\n",
        "\n",
        "    print(f\"Remaining number of documents: {remaining_count}\")\n"
      ]
    },
    {
      "cell_type": "code",
      "source": [
        "db_path = \"/content/drive/MyDrive/All DB/Code/grapg/Python_VDB_Graph_Code_BERT\""
      ],
      "metadata": {
        "id": "xpjMWPU-52RI"
      },
      "execution_count": 173,
      "outputs": []
    },
    {
      "cell_type": "code",
      "source": [
        "client_py = chromadb.PersistentClient(path=db_path)"
      ],
      "metadata": {
        "id": "ftsluwN6enE6"
      },
      "execution_count": 174,
      "outputs": []
    },
    {
      "cell_type": "code",
      "source": [
        "collections = client_py.list_collections()\n"
      ],
      "metadata": {
        "id": "WjtadlDOenE7"
      },
      "execution_count": 175,
      "outputs": []
    },
    {
      "cell_type": "code",
      "source": [
        "collections"
      ],
      "metadata": {
        "colab": {
          "base_uri": "https://localhost:8080/"
        },
        "outputId": "8555e75f-1249-4d61-9eab-650c1d14f042",
        "id": "Un_dexVrenE7"
      },
      "execution_count": 176,
      "outputs": [
        {
          "output_type": "execute_result",
          "data": {
            "text/plain": [
              "[Collection(name=codePY)]"
            ]
          },
          "metadata": {},
          "execution_count": 176
        }
      ]
    },
    {
      "cell_type": "markdown",
      "source": [
        "# comparison"
      ],
      "metadata": {
        "id": "fNH1FQtY2KSb"
      }
    },
    {
      "cell_type": "code",
      "source": [
        " # Step 4: Retrieve the collection\n",
        "\n",
        "client = chromadb.PersistentClient(path=\"/content/drive/MyDrive/All DB/Code/grapg/Java_Script_VDB_Graph_Code_Bert\")\n",
        "collection = client.get_collection(\"CODEJSCRIPT\")\n",
        "# Step 3: Get all document IDs from the collection by fetching all documents\n",
        "all_indices = collection.get(ids=None)  # This retrieves all documents, including their IDs\n",
        "document_ids = all_indices['ids']  # Extract document IDs\n"
      ],
      "metadata": {
        "id": "dTHy4MVvgKmP"
      },
      "execution_count": 148,
      "outputs": []
    },
    {
      "cell_type": "code",
      "source": [
        " # Step 4: Retrieve the collection\n",
        "\n",
        "client2 = chromadb.PersistentClient(path=\"/content/drive/MyDrive/All DB/Code/javascript_codet5_code_Vdb\")\n",
        "collection2 = client2.get_collection(\"javascript_codet5_code_collection\")\n",
        "# Step 3: Get all document IDs from the collection by fetching all documents\n",
        "all_indices2 = collection2.get(ids=None)  # This retrieves all documents, including their IDs\n",
        "document_ids2 = all_indices2['ids']  # Extract document IDs\n"
      ],
      "metadata": {
        "id": "Vyaj2XXdgi6Y"
      },
      "execution_count": 157,
      "outputs": []
    },
    {
      "cell_type": "code",
      "source": [
        "unique_to_document_ids = set(document_ids) - set(document_ids2)\n",
        "print(len(unique_to_document_ids))\n",
        "print(unique_to_document_ids)"
      ],
      "metadata": {
        "colab": {
          "base_uri": "https://localhost:8080/"
        },
        "id": "8OaZC79lkYSz",
        "outputId": "40bd09bf-70fd-4b61-9e10-90e871ebd015"
      },
      "execution_count": 167,
      "outputs": [
        {
          "output_type": "stream",
          "name": "stdout",
          "text": [
            "1\n",
            "{'0'}\n"
          ]
        }
      ]
    },
    {
      "cell_type": "code",
      "source": [
        "common_ids = set(document_ids) & set(document_ids2)\n",
        "print(len(common_ids))"
      ],
      "metadata": {
        "colab": {
          "base_uri": "https://localhost:8080/"
        },
        "id": "Ur2Sd6GHk4jR",
        "outputId": "06c8f808-651e-48af-b3d5-1cd211d0680c"
      },
      "execution_count": 165,
      "outputs": [
        {
          "output_type": "stream",
          "name": "stdout",
          "text": [
            "1038\n"
          ]
        }
      ]
    },
    {
      "cell_type": "markdown",
      "source": [
        "# graph code bert"
      ],
      "metadata": {
        "id": "cf70HZsLdVrB"
      }
    },
    {
      "cell_type": "code",
      "source": [
        "delete_ids_that_from_file(\n",
        "    db_path=\"/content/drive/MyDrive/All DB/Code/grapg/C++_VDB_Graph_Code_Bert\",\n",
        "    collection_name=\"codeC\"\n",
        ")"
      ],
      "metadata": {
        "colab": {
          "base_uri": "https://localhost:8080/"
        },
        "collapsed": true,
        "id": "1yL5BtymZBuw",
        "outputId": "312700e0-773b-4824-c9a7-35720ce3031c"
      },
      "execution_count": 134,
      "outputs": [
        {
          "output_type": "stream",
          "name": "stdout",
          "text": [
            "Loaded 100 IDs from deleted_ids.txt.\n",
            "Initial number of documents: 1138\n"
          ]
        },
        {
          "output_type": "stream",
          "name": "stderr",
          "text": [
            "WARNING:chromadb.segment.impl.vector.local_persistent_hnsw:Delete of nonexisting embedding ID: 1138\n",
            "WARNING:chromadb.segment.impl.metadata.sqlite:Delete of nonexisting embedding ID: 1138\n"
          ]
        },
        {
          "output_type": "stream",
          "name": "stdout",
          "text": [
            "Deleted 100 IDs from the collection 'codeC'.\n",
            "Remaining number of documents: 1039\n"
          ]
        }
      ]
    },
    {
      "cell_type": "code",
      "source": [
        "delete_ids_that_from_file(\n",
        "    db_path=\"/content/drive/MyDrive/All DB/Code/grapg/Java_Script_VDB_Graph_Code_Bert\",\n",
        "    collection_name=\"CODEJSCRIPT\"\n",
        ")"
      ],
      "metadata": {
        "colab": {
          "base_uri": "https://localhost:8080/"
        },
        "collapsed": true,
        "id": "RFigEMxAbsVJ",
        "outputId": "1cd2236a-194d-4abf-994f-f1a848903ccb"
      },
      "execution_count": 146,
      "outputs": [
        {
          "output_type": "stream",
          "name": "stdout",
          "text": [
            "Loaded 100 IDs from deleted_ids.txt.\n",
            "Initial number of documents: 1138\n",
            "id 511\n",
            "id 309\n",
            "id 915\n",
            "id 388\n",
            "id 645\n",
            "id 996\n",
            "id 213\n",
            "id 1071\n",
            "id 126\n",
            "id 639\n",
            "id 284\n",
            "id 410\n",
            "id 1017\n",
            "id 1007\n",
            "id 189\n",
            "id 737\n",
            "id 1125\n",
            "id 609\n",
            "id 451\n",
            "id 82\n",
            "id 889\n",
            "id 1115\n",
            "id 10\n",
            "id 374\n",
            "id 479\n",
            "id 566\n",
            "id 396\n",
            "id 682\n"
          ]
        },
        {
          "output_type": "stream",
          "name": "stderr",
          "text": [
            "WARNING:chromadb.segment.impl.metadata.sqlite:Delete of nonexisting embedding ID: 1138\n",
            "WARNING:chromadb.segment.impl.vector.local_persistent_hnsw:Delete of nonexisting embedding ID: 1138\n"
          ]
        },
        {
          "output_type": "stream",
          "name": "stdout",
          "text": [
            "id 712\n",
            "id 490\n",
            "id 1138\n",
            "id 903\n",
            "id 600\n",
            "id 227\n",
            "id 604\n",
            "id 783\n",
            "id 218\n",
            "id 282\n",
            "id 821\n",
            "id 659\n",
            "id 197\n",
            "id 857\n",
            "id 711\n",
            "id 221\n",
            "id 998\n",
            "id 426\n",
            "id 71\n",
            "id 773\n",
            "id 941\n",
            "id 957\n",
            "id 602\n",
            "id 411\n",
            "id 901\n",
            "id 466\n",
            "id 1123\n",
            "id 1044\n",
            "id 542\n",
            "id 486\n",
            "id 129\n",
            "id 571\n",
            "id 994\n",
            "id 977\n",
            "id 928\n",
            "id 59\n",
            "id 569\n",
            "id 753\n",
            "id 709\n",
            "id 1045\n",
            "id 150\n",
            "id 806\n",
            "id 596\n",
            "id 235\n",
            "id 813\n",
            "id 51\n",
            "id 649\n",
            "id 53\n",
            "id 81\n",
            "id 687\n",
            "id 918\n",
            "id 384\n",
            "id 1113\n",
            "id 546\n",
            "id 671\n",
            "id 968\n",
            "id 96\n",
            "id 89\n",
            "id 204\n",
            "id 674\n",
            "id 641\n",
            "id 73\n",
            "id 814\n",
            "id 307\n",
            "id 612\n",
            "id 7\n",
            "id 893\n",
            "id 171\n",
            "id 93\n",
            "id 1022\n",
            "id 525\n",
            "id 449\n",
            "Deleted 100 IDs from the collection 'CODEJSCRIPT'.\n",
            "Remaining number of documents: 1039\n"
          ]
        }
      ]
    },
    {
      "cell_type": "code",
      "source": [
        "delete_ids_that_from_file(\n",
        "    db_path=\"/content/drive/MyDrive/All DB/Code/grapg/Java_VDB_Graph_Code_Bert\",\n",
        "    collection_name=\"CODEJAVA\"\n",
        ")"
      ],
      "metadata": {
        "id": "ZDIzMkdIiffB",
        "colab": {
          "base_uri": "https://localhost:8080/"
        },
        "collapsed": true,
        "outputId": "87d0f045-de54-4de9-ed19-354df43dc359"
      },
      "execution_count": 172,
      "outputs": [
        {
          "output_type": "stream",
          "name": "stdout",
          "text": [
            "Loaded 100 IDs from deleted_ids.txt.\n",
            "Initial number of documents: 1138\n",
            "id 511\n",
            "id 309\n",
            "id 915\n",
            "id 388\n",
            "id 645\n",
            "id 996\n",
            "id 213\n",
            "id 1071\n",
            "id 126\n",
            "id 639\n",
            "id 284\n",
            "id 410\n",
            "id 1017\n",
            "id 1007\n",
            "id 189\n",
            "id 737\n",
            "id 1125\n",
            "id 609\n",
            "id 451\n",
            "id 82\n",
            "id 889\n",
            "id 1115\n",
            "id 10\n",
            "id 374\n",
            "id 479\n",
            "id 566\n",
            "id 396\n",
            "id"
          ]
        },
        {
          "output_type": "stream",
          "name": "stderr",
          "text": [
            "WARNING:chromadb.segment.impl.metadata.sqlite:Delete of nonexisting embedding ID: 1138\n",
            "WARNING:chromadb.segment.impl.vector.local_persistent_hnsw:Delete of nonexisting embedding ID: 1138\n"
          ]
        },
        {
          "output_type": "stream",
          "name": "stdout",
          "text": [
            " 682\n",
            "id 712\n",
            "id 490\n",
            "id 1138\n",
            "id 903\n",
            "id 600\n",
            "id 227\n",
            "id 604\n",
            "id 783\n",
            "id 218\n",
            "id 282\n",
            "id 821\n",
            "id 659\n",
            "id 197\n",
            "id 857\n",
            "id 711\n",
            "id 221\n",
            "id 998\n",
            "id 426\n",
            "id 71\n",
            "id 773\n",
            "id 941\n",
            "id 957\n",
            "id 602\n",
            "id 411\n",
            "id 901\n",
            "id 466\n",
            "id 1123\n",
            "id 1044\n",
            "id 542\n",
            "id 486\n",
            "id 129\n",
            "id 571\n",
            "id 994\n",
            "id 977\n",
            "id 928\n",
            "id 59\n",
            "id 569\n",
            "id 753\n",
            "id 709\n",
            "id 1045\n",
            "id 150\n",
            "id 806\n",
            "id 596\n",
            "id 235\n",
            "id 813\n",
            "id 51\n",
            "id 649\n",
            "id 53\n",
            "id 81\n",
            "id 687\n",
            "id 918\n",
            "id 384\n",
            "id 1113\n",
            "id 546\n",
            "id 671\n",
            "id 968\n",
            "id 96\n",
            "id 89\n",
            "id 204\n",
            "id 674\n",
            "id 641\n",
            "id 73\n",
            "id 814\n",
            "id 307\n",
            "id 612\n",
            "id 7\n",
            "id 893\n",
            "id 171\n",
            "id 93\n",
            "id 1022\n",
            "id 525\n",
            "id 449\n",
            "Deleted 100 IDs from the collection 'CODEJAVA'.\n",
            "Remaining number of documents: 1039\n"
          ]
        }
      ]
    },
    {
      "cell_type": "code",
      "source": [
        "delete_ids_that_from_file(\n",
        "    db_path=\"/content/drive/MyDrive/All DB/Code/grapg/Python_VDB_Graph_Code_BERT\",\n",
        "    collection_name=\"codePY\"\n",
        ")"
      ],
      "metadata": {
        "id": "uKoAPlUQgmXs",
        "colab": {
          "base_uri": "https://localhost:8080/"
        },
        "collapsed": true,
        "outputId": "a1aa84bc-2f9e-41d9-a00e-87592514b98b"
      },
      "execution_count": 177,
      "outputs": [
        {
          "output_type": "stream",
          "name": "stdout",
          "text": [
            "Loaded 100 IDs from deleted_ids.txt.\n",
            "Initial number of documents: 1138\n",
            "id 511\n",
            "id 309\n",
            "id 915\n",
            "id 388\n",
            "id 645\n",
            "id 996\n",
            "id 213\n",
            "id 1071\n",
            "id 126\n",
            "id 639\n",
            "id 284\n",
            "id 410\n",
            "id 1017\n",
            "id 1007\n",
            "id 189\n",
            "id 737\n",
            "id 1125\n",
            "id 609\n",
            "id 451\n",
            "id 82\n",
            "id 889\n",
            "id 1115\n",
            "id 10\n",
            "id 374\n",
            "id 479\n",
            "id 566\n",
            "id 396\n",
            "id 682\n",
            "id 712\n",
            "id 490\n"
          ]
        },
        {
          "output_type": "stream",
          "name": "stderr",
          "text": [
            "WARNING:chromadb.segment.impl.metadata.sqlite:Delete of nonexisting embedding ID: 1138\n",
            "WARNING:chromadb.segment.impl.vector.local_persistent_hnsw:Delete of nonexisting embedding ID: 1138\n"
          ]
        },
        {
          "output_type": "stream",
          "name": "stdout",
          "text": [
            "id 1138\n",
            "id 903\n",
            "id 600\n",
            "id 227\n",
            "id 604\n",
            "id 783\n",
            "id 218\n",
            "id 282\n",
            "id 821\n",
            "id 659\n",
            "id 197\n",
            "id 857\n",
            "id 711\n",
            "id 221\n",
            "id 998\n",
            "id 426\n",
            "id 71\n",
            "id 773\n",
            "id 941\n",
            "id 957\n",
            "id 602\n",
            "id 411\n",
            "id 901\n",
            "id 466\n",
            "id 1123\n",
            "id 1044\n",
            "id 542\n",
            "id 486\n",
            "id 129\n",
            "id 571\n",
            "id 994\n",
            "id 977\n",
            "id 928\n",
            "id 59\n",
            "id 569\n",
            "id 753\n",
            "id 709\n",
            "id 1045\n",
            "id 150\n",
            "id 806\n",
            "id 596\n",
            "id 235\n",
            "id 813\n",
            "id 51\n",
            "id 649\n",
            "id 53\n",
            "id 81\n",
            "id 687\n",
            "id 918\n",
            "id 384\n",
            "id 1113\n",
            "id 546\n",
            "id 671\n",
            "id 968\n",
            "id 96\n",
            "id 89\n",
            "id 204\n",
            "id 674\n",
            "id 641\n",
            "id 73\n",
            "id 814\n",
            "id 307\n",
            "id 612\n",
            "id 7\n",
            "id 893\n",
            "id 171\n",
            "id 93\n",
            "id 1022\n",
            "id 525\n",
            "id 449\n",
            "Deleted 100 IDs from the collection 'codePY'.\n",
            "Remaining number of documents: 1039\n"
          ]
        }
      ]
    },
    {
      "cell_type": "code",
      "source": [
        "import chromadb\n",
        "\n",
        "def delete_id0_Graph_Code_Bert(db_path, collection_name):\n",
        "    # Initialize the PersistentClient and connect to the database\n",
        "    client = chromadb.PersistentClient(path=db_path)\n",
        "\n",
        "    # Retrieve the collection\n",
        "    collection = client.get_collection(collection_name)\n",
        "\n",
        "    # Delete the document with the specific ID '0'\n",
        "    collection.delete(ids=['0'])\n",
        "\n",
        "    # Step 3: Get all document IDs from the collection by fetching all documents\n",
        "    all_indices = collection.get(ids=None)  # This retrieves all documents, including their IDs\n",
        "    document_ids = all_indices['ids']  # Extract document IDs\n",
        "    print(\"remain\",len(document_ids))\n",
        "\n",
        "    print(f\"Deleted document with ID '0' from collection '{collection_name}' in database '{db_path}'\")\n"
      ],
      "metadata": {
        "id": "ScAIKwXOn7rC"
      },
      "execution_count": 181,
      "outputs": []
    },
    {
      "cell_type": "code",
      "source": [
        "delete_id0_Graph_Code_Bert(\n",
        "    db_path=\"/content/drive/MyDrive/All DB/Code/grapg/C++_VDB_Graph_Code_Bert\",\n",
        "    collection_name=\"codeC\"\n",
        ")\n",
        "\n",
        "delete_id0_Graph_Code_Bert(\n",
        "    db_path=\"/content/drive/MyDrive/All DB/Code/grapg/Java_Script_VDB_Graph_Code_Bert\",\n",
        "    collection_name=\"CODEJSCRIPT\"\n",
        ")\n",
        "\n",
        "delete_id0_Graph_Code_Bert(\n",
        "    db_path=\"/content/drive/MyDrive/All DB/Code/grapg/Java_VDB_Graph_Code_Bert\",\n",
        "    collection_name=\"CODEJAVA\"\n",
        ")\n",
        "\n",
        "delete_id0_Graph_Code_Bert(\n",
        "    db_path=\"/content/drive/MyDrive/All DB/Code/grapg/Python_VDB_Graph_Code_BERT\",\n",
        "    collection_name=\"codePY\"\n",
        ")\n"
      ],
      "metadata": {
        "colab": {
          "base_uri": "https://localhost:8080/"
        },
        "collapsed": true,
        "id": "t4umHV89n_PE",
        "outputId": "028a9d78-abba-47c1-d42d-ebf8d925ee30"
      },
      "execution_count": 182,
      "outputs": [
        {
          "output_type": "stream",
          "name": "stderr",
          "text": [
            "WARNING:chromadb.segment.impl.metadata.sqlite:Delete of nonexisting embedding ID: 0\n",
            "WARNING:chromadb.segment.impl.metadata.sqlite:Delete of nonexisting embedding ID: 0\n",
            "WARNING:chromadb.segment.impl.metadata.sqlite:Delete of nonexisting embedding ID: 0\n",
            "WARNING:chromadb.segment.impl.metadata.sqlite:Delete of nonexisting embedding ID: 0\n"
          ]
        },
        {
          "output_type": "stream",
          "name": "stdout",
          "text": [
            "remain 1038\n",
            "Deleted document with ID '0' from collection 'codeC' in database '/content/drive/MyDrive/All DB/Code/grapg/C++_VDB_Graph_Code_Bert'\n",
            "remain 1038\n",
            "Deleted document with ID '0' from collection 'CODEJSCRIPT' in database '/content/drive/MyDrive/All DB/Code/grapg/Java_Script_VDB_Graph_Code_Bert'\n",
            "remain 1038\n",
            "Deleted document with ID '0' from collection 'CODEJAVA' in database '/content/drive/MyDrive/All DB/Code/grapg/Java_VDB_Graph_Code_Bert'\n",
            "remain 1038\n",
            "Deleted document with ID '0' from collection 'codePY' in database '/content/drive/MyDrive/All DB/Code/grapg/Python_VDB_Graph_Code_BERT'\n"
          ]
        }
      ]
    },
    {
      "cell_type": "markdown",
      "source": [
        "# code"
      ],
      "metadata": {
        "id": "LOVWClpUL55h"
      }
    },
    {
      "cell_type": "code",
      "source": [
        "# delete_ids_that_from_file(\n",
        "#     db_path=\"/content/drive/MyDrive/All DB/Code/C++_VDB_Graph_Code_Bert\",\n",
        "#     collection_name=\"codeC\"\n",
        "# )"
      ],
      "metadata": {
        "colab": {
          "base_uri": "https://localhost:8080/",
          "height": 389
        },
        "collapsed": true,
        "id": "JXE6LOs6VrgU",
        "outputId": "f6755bfc-7cfa-468b-9bb5-026c8f702d6b"
      },
      "execution_count": 123,
      "outputs": [
        {
          "output_type": "stream",
          "name": "stdout",
          "text": [
            "Loaded 100 IDs from deleted_ids.txt.\n",
            "Initial number of documents: 1039\n"
          ]
        },
        {
          "output_type": "error",
          "ename": "OperationalError",
          "evalue": "attempt to write a readonly database",
          "traceback": [
            "\u001b[0;31m---------------------------------------------------------------------------\u001b[0m",
            "\u001b[0;31mOperationalError\u001b[0m                          Traceback (most recent call last)",
            "\u001b[0;32m<ipython-input-123-b6cd6870bdd0>\u001b[0m in \u001b[0;36m<cell line: 1>\u001b[0;34m()\u001b[0m\n\u001b[0;32m----> 1\u001b[0;31m delete_ids_that_from_file(\n\u001b[0m\u001b[1;32m      2\u001b[0m     \u001b[0mdb_path\u001b[0m\u001b[0;34m=\u001b[0m\u001b[0;34m\"/content/drive/MyDrive/All DB/Code/C++_VDB_Graph_Code_Bert\"\u001b[0m\u001b[0;34m,\u001b[0m\u001b[0;34m\u001b[0m\u001b[0;34m\u001b[0m\u001b[0m\n\u001b[1;32m      3\u001b[0m     \u001b[0mcollection_name\u001b[0m\u001b[0;34m=\u001b[0m\u001b[0;34m\"codeC\"\u001b[0m\u001b[0;34m\u001b[0m\u001b[0;34m\u001b[0m\u001b[0m\n\u001b[1;32m      4\u001b[0m )\n",
            "\u001b[0;32m<ipython-input-22-c8a847abfbf5>\u001b[0m in \u001b[0;36mdelete_ids_that_from_file\u001b[0;34m(db_path, collection_name, input_file)\u001b[0m\n\u001b[1;32m     39\u001b[0m     \u001b[0;31m# Step 5: Delete the IDs from the collection\u001b[0m\u001b[0;34m\u001b[0m\u001b[0;34m\u001b[0m\u001b[0m\n\u001b[1;32m     40\u001b[0m     \u001b[0;32mfor\u001b[0m \u001b[0mdoc_id\u001b[0m \u001b[0;32min\u001b[0m \u001b[0mids_to_delete\u001b[0m\u001b[0;34m:\u001b[0m\u001b[0;34m\u001b[0m\u001b[0;34m\u001b[0m\u001b[0m\n\u001b[0;32m---> 41\u001b[0;31m         \u001b[0mcollection\u001b[0m\u001b[0;34m.\u001b[0m\u001b[0mdelete\u001b[0m\u001b[0;34m(\u001b[0m\u001b[0mids\u001b[0m\u001b[0;34m=\u001b[0m\u001b[0;34m[\u001b[0m\u001b[0mdoc_id\u001b[0m\u001b[0;34m]\u001b[0m\u001b[0;34m)\u001b[0m\u001b[0;34m\u001b[0m\u001b[0;34m\u001b[0m\u001b[0m\n\u001b[0m\u001b[1;32m     42\u001b[0m \u001b[0;34m\u001b[0m\u001b[0m\n\u001b[1;32m     43\u001b[0m     \u001b[0mprint\u001b[0m\u001b[0;34m(\u001b[0m\u001b[0;34mf\"Deleted {len(ids_to_delete)} IDs from the collection '{collection_name}'.\"\u001b[0m\u001b[0;34m)\u001b[0m\u001b[0;34m\u001b[0m\u001b[0;34m\u001b[0m\u001b[0m\n",
            "\u001b[0;32m/usr/local/lib/python3.10/dist-packages/chromadb/api/models/Collection.py\u001b[0m in \u001b[0;36mdelete\u001b[0;34m(self, ids, where, where_document)\u001b[0m\n\u001b[1;32m    373\u001b[0m         )\n\u001b[1;32m    374\u001b[0m \u001b[0;34m\u001b[0m\u001b[0m\n\u001b[0;32m--> 375\u001b[0;31m         self._client._delete(\n\u001b[0m\u001b[1;32m    376\u001b[0m             \u001b[0mcollection_id\u001b[0m\u001b[0;34m=\u001b[0m\u001b[0mself\u001b[0m\u001b[0;34m.\u001b[0m\u001b[0mid\u001b[0m\u001b[0;34m,\u001b[0m\u001b[0;34m\u001b[0m\u001b[0;34m\u001b[0m\u001b[0m\n\u001b[1;32m    377\u001b[0m             \u001b[0mids\u001b[0m\u001b[0;34m=\u001b[0m\u001b[0mdelete_request\u001b[0m\u001b[0;34m[\u001b[0m\u001b[0;34m\"ids\"\u001b[0m\u001b[0;34m]\u001b[0m\u001b[0;34m,\u001b[0m\u001b[0;34m\u001b[0m\u001b[0;34m\u001b[0m\u001b[0m\n",
            "\u001b[0;32m/usr/local/lib/python3.10/dist-packages/chromadb/telemetry/opentelemetry/__init__.py\u001b[0m in \u001b[0;36mwrapper\u001b[0;34m(*args, **kwargs)\u001b[0m\n\u001b[1;32m    148\u001b[0m                 \u001b[0;32mglobal\u001b[0m \u001b[0mtracer\u001b[0m\u001b[0;34m,\u001b[0m \u001b[0mgranularity\u001b[0m\u001b[0;34m\u001b[0m\u001b[0;34m\u001b[0m\u001b[0m\n\u001b[1;32m    149\u001b[0m                 \u001b[0;32mif\u001b[0m \u001b[0mtrace_granularity\u001b[0m \u001b[0;34m<\u001b[0m \u001b[0mgranularity\u001b[0m\u001b[0;34m:\u001b[0m\u001b[0;34m\u001b[0m\u001b[0;34m\u001b[0m\u001b[0m\n\u001b[0;32m--> 150\u001b[0;31m                     \u001b[0;32mreturn\u001b[0m \u001b[0mf\u001b[0m\u001b[0;34m(\u001b[0m\u001b[0;34m*\u001b[0m\u001b[0margs\u001b[0m\u001b[0;34m,\u001b[0m \u001b[0;34m**\u001b[0m\u001b[0mkwargs\u001b[0m\u001b[0;34m)\u001b[0m\u001b[0;34m\u001b[0m\u001b[0;34m\u001b[0m\u001b[0m\n\u001b[0m\u001b[1;32m    151\u001b[0m                 \u001b[0;32mif\u001b[0m \u001b[0;32mnot\u001b[0m \u001b[0mtracer\u001b[0m\u001b[0;34m:\u001b[0m\u001b[0;34m\u001b[0m\u001b[0;34m\u001b[0m\u001b[0m\n\u001b[1;32m    152\u001b[0m                     \u001b[0;32mreturn\u001b[0m \u001b[0mf\u001b[0m\u001b[0;34m(\u001b[0m\u001b[0;34m*\u001b[0m\u001b[0margs\u001b[0m\u001b[0;34m,\u001b[0m \u001b[0;34m**\u001b[0m\u001b[0mkwargs\u001b[0m\u001b[0;34m)\u001b[0m\u001b[0;34m\u001b[0m\u001b[0;34m\u001b[0m\u001b[0m\n",
            "\u001b[0;32m/usr/local/lib/python3.10/dist-packages/chromadb/api/segment.py\u001b[0m in \u001b[0;36mwrapper\u001b[0;34m(*args, **kwargs)\u001b[0m\n\u001b[1;32m    101\u001b[0m     \u001b[0;32mdef\u001b[0m \u001b[0mwrapper\u001b[0m\u001b[0;34m(\u001b[0m\u001b[0;34m*\u001b[0m\u001b[0margs\u001b[0m\u001b[0;34m:\u001b[0m \u001b[0mAny\u001b[0m\u001b[0;34m,\u001b[0m \u001b[0;34m**\u001b[0m\u001b[0mkwargs\u001b[0m\u001b[0;34m:\u001b[0m \u001b[0mAny\u001b[0m\u001b[0;34m)\u001b[0m \u001b[0;34m->\u001b[0m \u001b[0mAny\u001b[0m\u001b[0;34m:\u001b[0m\u001b[0;34m\u001b[0m\u001b[0;34m\u001b[0m\u001b[0m\n\u001b[1;32m    102\u001b[0m         \u001b[0mself\u001b[0m \u001b[0;34m=\u001b[0m \u001b[0margs\u001b[0m\u001b[0;34m[\u001b[0m\u001b[0;36m0\u001b[0m\u001b[0;34m]\u001b[0m\u001b[0;34m\u001b[0m\u001b[0;34m\u001b[0m\u001b[0m\n\u001b[0;32m--> 103\u001b[0;31m         \u001b[0;32mreturn\u001b[0m \u001b[0mself\u001b[0m\u001b[0;34m.\u001b[0m\u001b[0m_rate_limit_enforcer\u001b[0m\u001b[0;34m.\u001b[0m\u001b[0mrate_limit\u001b[0m\u001b[0;34m(\u001b[0m\u001b[0mfunc\u001b[0m\u001b[0;34m)\u001b[0m\u001b[0;34m(\u001b[0m\u001b[0;34m*\u001b[0m\u001b[0margs\u001b[0m\u001b[0;34m,\u001b[0m \u001b[0;34m**\u001b[0m\u001b[0mkwargs\u001b[0m\u001b[0;34m)\u001b[0m\u001b[0;34m\u001b[0m\u001b[0;34m\u001b[0m\u001b[0m\n\u001b[0m\u001b[1;32m    104\u001b[0m \u001b[0;34m\u001b[0m\u001b[0m\n\u001b[1;32m    105\u001b[0m     \u001b[0;32mreturn\u001b[0m \u001b[0mwrapper\u001b[0m  \u001b[0;31m# type: ignore\u001b[0m\u001b[0;34m\u001b[0m\u001b[0;34m\u001b[0m\u001b[0m\n",
            "\u001b[0;32m/usr/local/lib/python3.10/dist-packages/chromadb/rate_limit/simple_rate_limit/__init__.py\u001b[0m in \u001b[0;36mwrapper\u001b[0;34m(*args, **kwargs)\u001b[0m\n\u001b[1;32m     21\u001b[0m         \u001b[0;34m@\u001b[0m\u001b[0mwraps\u001b[0m\u001b[0;34m(\u001b[0m\u001b[0mfunc\u001b[0m\u001b[0;34m)\u001b[0m\u001b[0;34m\u001b[0m\u001b[0;34m\u001b[0m\u001b[0m\n\u001b[1;32m     22\u001b[0m         \u001b[0;32mdef\u001b[0m \u001b[0mwrapper\u001b[0m\u001b[0;34m(\u001b[0m\u001b[0;34m*\u001b[0m\u001b[0margs\u001b[0m\u001b[0;34m:\u001b[0m \u001b[0mAny\u001b[0m\u001b[0;34m,\u001b[0m \u001b[0;34m**\u001b[0m\u001b[0mkwargs\u001b[0m\u001b[0;34m:\u001b[0m \u001b[0mAny\u001b[0m\u001b[0;34m)\u001b[0m \u001b[0;34m->\u001b[0m \u001b[0mAny\u001b[0m\u001b[0;34m:\u001b[0m\u001b[0;34m\u001b[0m\u001b[0;34m\u001b[0m\u001b[0m\n\u001b[0;32m---> 23\u001b[0;31m             \u001b[0;32mreturn\u001b[0m \u001b[0mfunc\u001b[0m\u001b[0;34m(\u001b[0m\u001b[0;34m*\u001b[0m\u001b[0margs\u001b[0m\u001b[0;34m,\u001b[0m \u001b[0;34m**\u001b[0m\u001b[0mkwargs\u001b[0m\u001b[0;34m)\u001b[0m\u001b[0;34m\u001b[0m\u001b[0;34m\u001b[0m\u001b[0m\n\u001b[0m\u001b[1;32m     24\u001b[0m \u001b[0;34m\u001b[0m\u001b[0m\n\u001b[1;32m     25\u001b[0m         \u001b[0;32mreturn\u001b[0m \u001b[0mwrapper\u001b[0m  \u001b[0;31m# type: ignore\u001b[0m\u001b[0;34m\u001b[0m\u001b[0;34m\u001b[0m\u001b[0m\n",
            "\u001b[0;32m/usr/local/lib/python3.10/dist-packages/chromadb/api/segment.py\u001b[0m in \u001b[0;36m_delete\u001b[0;34m(self, collection_id, ids, where, where_document, tenant, database)\u001b[0m\n\u001b[1;32m    703\u001b[0m         )\n\u001b[1;32m    704\u001b[0m         \u001b[0mself\u001b[0m\u001b[0;34m.\u001b[0m\u001b[0m_validate_embedding_record_set\u001b[0m\u001b[0;34m(\u001b[0m\u001b[0mcoll\u001b[0m\u001b[0;34m,\u001b[0m \u001b[0mrecords_to_submit\u001b[0m\u001b[0;34m)\u001b[0m\u001b[0;34m\u001b[0m\u001b[0;34m\u001b[0m\u001b[0m\n\u001b[0;32m--> 705\u001b[0;31m         \u001b[0mself\u001b[0m\u001b[0;34m.\u001b[0m\u001b[0m_producer\u001b[0m\u001b[0;34m.\u001b[0m\u001b[0msubmit_embeddings\u001b[0m\u001b[0;34m(\u001b[0m\u001b[0mcollection_id\u001b[0m\u001b[0;34m,\u001b[0m \u001b[0mrecords_to_submit\u001b[0m\u001b[0;34m)\u001b[0m\u001b[0;34m\u001b[0m\u001b[0;34m\u001b[0m\u001b[0m\n\u001b[0m\u001b[1;32m    706\u001b[0m \u001b[0;34m\u001b[0m\u001b[0m\n\u001b[1;32m    707\u001b[0m         self._product_telemetry_client.capture(\n",
            "\u001b[0;32m/usr/local/lib/python3.10/dist-packages/chromadb/telemetry/opentelemetry/__init__.py\u001b[0m in \u001b[0;36mwrapper\u001b[0;34m(*args, **kwargs)\u001b[0m\n\u001b[1;32m    148\u001b[0m                 \u001b[0;32mglobal\u001b[0m \u001b[0mtracer\u001b[0m\u001b[0;34m,\u001b[0m \u001b[0mgranularity\u001b[0m\u001b[0;34m\u001b[0m\u001b[0;34m\u001b[0m\u001b[0m\n\u001b[1;32m    149\u001b[0m                 \u001b[0;32mif\u001b[0m \u001b[0mtrace_granularity\u001b[0m \u001b[0;34m<\u001b[0m \u001b[0mgranularity\u001b[0m\u001b[0;34m:\u001b[0m\u001b[0;34m\u001b[0m\u001b[0;34m\u001b[0m\u001b[0m\n\u001b[0;32m--> 150\u001b[0;31m                     \u001b[0;32mreturn\u001b[0m \u001b[0mf\u001b[0m\u001b[0;34m(\u001b[0m\u001b[0;34m*\u001b[0m\u001b[0margs\u001b[0m\u001b[0;34m,\u001b[0m \u001b[0;34m**\u001b[0m\u001b[0mkwargs\u001b[0m\u001b[0;34m)\u001b[0m\u001b[0;34m\u001b[0m\u001b[0;34m\u001b[0m\u001b[0m\n\u001b[0m\u001b[1;32m    151\u001b[0m                 \u001b[0;32mif\u001b[0m \u001b[0;32mnot\u001b[0m \u001b[0mtracer\u001b[0m\u001b[0;34m:\u001b[0m\u001b[0;34m\u001b[0m\u001b[0;34m\u001b[0m\u001b[0m\n\u001b[1;32m    152\u001b[0m                     \u001b[0;32mreturn\u001b[0m \u001b[0mf\u001b[0m\u001b[0;34m(\u001b[0m\u001b[0;34m*\u001b[0m\u001b[0margs\u001b[0m\u001b[0;34m,\u001b[0m \u001b[0;34m**\u001b[0m\u001b[0mkwargs\u001b[0m\u001b[0;34m)\u001b[0m\u001b[0;34m\u001b[0m\u001b[0;34m\u001b[0m\u001b[0m\n",
            "\u001b[0;32m/usr/local/lib/python3.10/dist-packages/chromadb/db/mixins/embeddings_queue.py\u001b[0m in \u001b[0;36msubmit_embeddings\u001b[0;34m(self, collection_id, embeddings)\u001b[0m\n\u001b[1;32m    241\u001b[0m             \u001b[0;31m# the results. https://www.sqlite.org/lang_returning.html\u001b[0m\u001b[0;34m\u001b[0m\u001b[0;34m\u001b[0m\u001b[0m\n\u001b[1;32m    242\u001b[0m             \u001b[0msql\u001b[0m \u001b[0;34m=\u001b[0m \u001b[0;34mf\"{sql} RETURNING seq_id, id\"\u001b[0m  \u001b[0;31m# Pypika doesn't support RETURNING\u001b[0m\u001b[0;34m\u001b[0m\u001b[0;34m\u001b[0m\u001b[0m\n\u001b[0;32m--> 243\u001b[0;31m             \u001b[0mresults\u001b[0m \u001b[0;34m=\u001b[0m \u001b[0mcur\u001b[0m\u001b[0;34m.\u001b[0m\u001b[0mexecute\u001b[0m\u001b[0;34m(\u001b[0m\u001b[0msql\u001b[0m\u001b[0;34m,\u001b[0m \u001b[0mparams\u001b[0m\u001b[0;34m)\u001b[0m\u001b[0;34m.\u001b[0m\u001b[0mfetchall\u001b[0m\u001b[0;34m(\u001b[0m\u001b[0;34m)\u001b[0m\u001b[0;34m\u001b[0m\u001b[0;34m\u001b[0m\u001b[0m\n\u001b[0m\u001b[1;32m    244\u001b[0m             \u001b[0;31m# Reorder the results\u001b[0m\u001b[0;34m\u001b[0m\u001b[0;34m\u001b[0m\u001b[0m\n\u001b[1;32m    245\u001b[0m             seq_ids = [cast(SeqId, None)] * len(\n",
            "\u001b[0;31mOperationalError\u001b[0m: attempt to write a readonly database"
          ]
        }
      ]
    },
    {
      "cell_type": "code",
      "source": [
        "delete_ids_that_from_file(\n",
        "    db_path=\"/content/drive/MyDrive/All DB/Code/C_codet5_code_Vdb\",\n",
        "    collection_name=\"C_codet5_code_collection\"\n",
        ")"
      ],
      "metadata": {
        "colab": {
          "base_uri": "https://localhost:8080/"
        },
        "collapsed": true,
        "id": "ZBjlZLUa95QP",
        "outputId": "1d4f41bc-5083-4105-ba27-078009d28eed"
      },
      "execution_count": 21,
      "outputs": [
        {
          "output_type": "stream",
          "name": "stdout",
          "text": [
            "Loaded 100 IDs from deleted_ids.txt.\n",
            "Initial number of documents: 1138\n",
            "Successfully deleted 1 IDs from the collection 'C_codet5_code_collection'.\n",
            "Successfully deleted 2 IDs from the collection 'C_codet5_code_collection'.\n",
            "Successfully deleted 3 IDs from the collection 'C_codet5_code_collection'.\n",
            "Successfully deleted 4 IDs from the collection 'C_codet5_code_collection'.\n",
            "Successfully deleted 5 IDs from the collection 'C_codet5_code_collection'.\n",
            "Successfully deleted 6 IDs from the collection 'C_codet5_code_collection'.\n",
            "Successfully deleted 7 IDs from the collection 'C_codet5_code_collection'.\n",
            "Successfully deleted 8 IDs from the collection 'C_codet5_code_collection'.\n",
            "Successfully deleted 9 IDs from the collection 'C_codet5_code_collection'.\n",
            "Successfully deleted 10 IDs from the collection 'C_codet5_code_collection'.\n",
            "Successfully deleted 11 IDs from the collection 'C_codet5_code_collection'.\n",
            "Successfully deleted 12 IDs from the collection 'C_codet5_code_collection'.\n",
            "Successfully deleted 13 IDs from the collection 'C_codet5_code_collection'.\n",
            "Successfully deleted 14 IDs from the collection 'C_codet5_code_collection'.\n",
            "Successfully deleted 15 IDs from the collection 'C_codet5_code_collection'.\n",
            "Successfully deleted 16 IDs from the collection 'C_codet5_code_collection'.\n",
            "Successfully deleted 17 IDs from the collection 'C_codet5_code_collection'.\n",
            "Successfully deleted 18 IDs from the collection 'C_codet5_code_collection'.\n",
            "Successfully deleted 19 IDs from the collection 'C_codet5_code_collection'.\n",
            "Successfully deleted 20 IDs from the collection 'C_codet5_code_collection'.\n",
            "Successfully deleted 21 IDs from the collection 'C_codet5_code_collection'.\n",
            "Successfully deleted 22 IDs from the collection 'C_codet5_code_collection'.\n",
            "Successfully deleted 23 IDs from the collection 'C_codet5_code_collection'.\n",
            "Successfully deleted 24 IDs from the collection 'C_codet5_code_collection'.\n",
            "Successfully deleted 25 IDs from the collection 'C_codet5_code_collection'.\n",
            "Successfully deleted 26 IDs from the collection 'C_codet5_code_collection'.\n",
            "Successfully deleted 27 IDs from the collection 'C_codet5_code_collection'.\n",
            "Successfully deleted 28 IDs from the collection 'C_codet5_code_collection'.\n",
            "Successfully deleted 29 IDs from the collection 'C_codet5_code_collection'.\n",
            "Successfully deleted 30 IDs from the collection 'C_codet5_code_collection'.\n",
            "Successfully deleted 31 IDs from the collection 'C_codet5_code_collection'.\n",
            "Successfully deleted 32 IDs from the collection 'C_codet5_code_collection'.\n",
            "Successfully deleted 33 IDs from the collection 'C_codet5_code_collection'.\n",
            "Successfully deleted 34 IDs from the collection 'C_codet5_code_collection'.\n",
            "Successfully deleted 35 IDs from the collection 'C_codet5_code_collection'.\n",
            "Successfully deleted 36 IDs from the collection 'C_codet5_code_collection'.\n",
            "Successfully deleted 37 IDs from the collection 'C_codet5_code_collection'.\n",
            "Successfully deleted 38 IDs from the collection 'C_codet5_code_collection'.\n",
            "Successfully deleted 39 IDs from the collection 'C_codet5_code_collection'.\n",
            "Successfully deleted 40 IDs from the collection 'C_codet5_code_collection'.\n",
            "Successfully deleted 41 IDs from the collection 'C_codet5_code_collection'.\n",
            "Successfully deleted 42 IDs from the collection 'C_codet5_code_collection'.\n",
            "Successfully deleted 43 IDs from the collection 'C_codet5_code_collection'.\n",
            "Successfully deleted 44 IDs from the collection 'C_codet5_code_collection'.\n",
            "Successfully deleted 45 IDs from the collection 'C_codet5_code_collection'.\n",
            "Successfully deleted 46 IDs from the collection 'C_codet5_code_collection'.\n",
            "Successfully deleted 47 IDs from the collection 'C_codet5_code_collection'.\n",
            "Successfully deleted 48 IDs from the collection 'C_codet5_code_collection'.\n",
            "Successfully deleted 49 IDs from the collection 'C_codet5_code_collection'.\n",
            "Successfully deleted 50 IDs from the collection 'C_codet5_code_collection'.\n",
            "Successfully deleted 51 IDs from the collection 'C_codet5_code_collection'.\n",
            "Successfully deleted 52 IDs from the collection 'C_codet5_code_collection'.\n",
            "Successfully deleted 53 IDs from the collection 'C_codet5_code_collection'.\n",
            "Successfully deleted 54 IDs from the collection 'C_codet5_code_collection'.\n",
            "Successfully deleted 55 IDs from the collection 'C_codet5_code_collection'.\n",
            "Successfully deleted 56 IDs from the collection 'C_codet5_code_collection'.\n",
            "Successfully deleted 57 IDs from the collection 'C_codet5_code_collection'.\n",
            "Successfully deleted 58 IDs from the collection 'C_codet5_code_collection'.\n",
            "Successfully deleted 59 IDs from the collection 'C_codet5_code_collection'.\n",
            "Successfully deleted 60 IDs from the collection 'C_codet5_code_collection'.\n",
            "Successfully deleted 61 IDs from the collection 'C_codet5_code_collection'.\n",
            "Successfully deleted 62 IDs from the collection 'C_codet5_code_collection'.\n",
            "Successfully deleted 63 IDs from the collection 'C_codet5_code_collection'.\n",
            "Successfully deleted 64 IDs from the collection 'C_codet5_code_collection'.\n",
            "Successfully deleted 65 IDs from the collection 'C_codet5_code_collection'.\n",
            "Successfully deleted 66 IDs from the collection 'C_codet5_code_collection'.\n",
            "Successfully deleted 67 IDs from the collection 'C_codet5_code_collection'.\n",
            "Successfully deleted 68 IDs from the collection 'C_codet5_code_collection'.\n",
            "Successfully deleted 69 IDs from the collection 'C_codet5_code_collection'.\n",
            "Successfully deleted 70 IDs from the collection 'C_codet5_code_collection'.\n",
            "Successfully deleted 71 IDs from the collection 'C_codet5_code_collection'.\n",
            "Successfully deleted 72 IDs from the collection 'C_codet5_code_collection'.\n",
            "Successfully deleted 73 IDs from the collection 'C_codet5_code_collection'.\n",
            "Successfully deleted 74 IDs from the collection 'C_codet5_code_collection'.\n",
            "Successfully deleted 75 IDs from the collection 'C_codet5_code_collection'.\n",
            "Successfully deleted 76 IDs from the collection 'C_codet5_code_collection'.\n",
            "Successfully deleted 77 IDs from the collection 'C_codet5_code_collection'.\n",
            "Successfully deleted 78 IDs from the collection 'C_codet5_code_collection'.\n",
            "Successfully deleted 79 IDs from the collection 'C_codet5_code_collection'.\n",
            "Successfully deleted 80 IDs from the collection 'C_codet5_code_collection'.\n",
            "Successfully deleted 81 IDs from the collection 'C_codet5_code_collection'.\n",
            "Successfully deleted 82 IDs from the collection 'C_codet5_code_collection'.\n",
            "Successfully deleted 83 IDs from the collection 'C_codet5_code_collection'.\n",
            "Successfully deleted 84 IDs from the collection 'C_codet5_code_collection'.\n",
            "Successfully deleted 85 IDs from the collection 'C_codet5_code_collection'.\n",
            "Successfully deleted 86 IDs from the collection 'C_codet5_code_collection'.\n",
            "Successfully deleted 87 IDs from the collection 'C_codet5_code_collection'.\n",
            "Successfully deleted 88 IDs from the collection 'C_codet5_code_collection'.\n",
            "Successfully deleted 89 IDs from the collection 'C_codet5_code_collection'.\n",
            "Successfully deleted 90 IDs from the collection 'C_codet5_code_collection'.\n",
            "Successfully deleted 91 IDs from the collection 'C_codet5_code_collection'.\n",
            "Successfully deleted 92 IDs from the collection 'C_codet5_code_collection'.\n",
            "Successfully deleted 93 IDs from the collection 'C_codet5_code_collection'.\n",
            "Successfully deleted 94 IDs from the collection 'C_codet5_code_collection'.\n",
            "Successfully deleted 95 IDs from the collection 'C_codet5_code_collection'.\n",
            "Successfully deleted 96 IDs from the collection 'C_codet5_code_collection'.\n",
            "Successfully deleted 97 IDs from the collection 'C_codet5_code_collection'.\n",
            "Successfully deleted 98 IDs from the collection 'C_codet5_code_collection'.\n",
            "Successfully deleted 99 IDs from the collection 'C_codet5_code_collection'.\n",
            "Successfully deleted 100 IDs from the collection 'C_codet5_code_collection'.\n",
            "Deleted 100 IDs from the collection 'C_codet5_code_collection'.\n",
            "Remaining number of documents: 1038\n"
          ]
        }
      ]
    },
    {
      "cell_type": "code",
      "source": [
        "delete_ids_that_from_file(\n",
        "    db_path=\"/content/drive/MyDrive/All DB/Code/JAVA-qween-VectorDB\",\n",
        "    collection_name=\"Java-VectorDataBase-Qwen2.5-Coder-7B\"\n",
        ")"
      ],
      "metadata": {
        "colab": {
          "base_uri": "https://localhost:8080/"
        },
        "collapsed": true,
        "id": "nlAjamHzV8nS",
        "outputId": "08b4302e-4265-4e4d-b694-d31d428d53fc"
      },
      "execution_count": 128,
      "outputs": [
        {
          "output_type": "stream",
          "name": "stderr",
          "text": [
            "WARNING:chromadb.segment.impl.vector.local_persistent_hnsw:Delete of nonexisting embedding ID: 511\n",
            "WARNING:chromadb.segment.impl.metadata.sqlite:Delete of nonexisting embedding ID: 511\n",
            "WARNING:chromadb.segment.impl.vector.local_persistent_hnsw:Delete of nonexisting embedding ID: 309\n",
            "WARNING:chromadb.segment.impl.metadata.sqlite:Delete of nonexisting embedding ID: 309\n",
            "WARNING:chromadb.segment.impl.vector.local_persistent_hnsw:Delete of nonexisting embedding ID: 915\n",
            "WARNING:chromadb.segment.impl.metadata.sqlite:Delete of nonexisting embedding ID: 915\n",
            "WARNING:chromadb.segment.impl.vector.local_persistent_hnsw:Delete of nonexisting embedding ID: 388\n",
            "WARNING:chromadb.segment.impl.metadata.sqlite:Delete of nonexisting embedding ID: 388\n",
            "WARNING:chromadb.segment.impl.vector.local_persistent_hnsw:Delete of nonexisting embedding ID: 645\n",
            "WARNING:chromadb.segment.impl.metadata.sqlite:Delete of nonexisting embedding ID: 645\n"
          ]
        },
        {
          "output_type": "stream",
          "name": "stdout",
          "text": [
            "Loaded 100 IDs from deleted_ids.txt.\n",
            "Initial number of documents: 1038\n"
          ]
        },
        {
          "output_type": "stream",
          "name": "stderr",
          "text": [
            "WARNING:chromadb.segment.impl.vector.local_persistent_hnsw:Delete of nonexisting embedding ID: 996\n",
            "WARNING:chromadb.segment.impl.metadata.sqlite:Delete of nonexisting embedding ID: 996\n",
            "WARNING:chromadb.segment.impl.vector.local_persistent_hnsw:Delete of nonexisting embedding ID: 213\n",
            "WARNING:chromadb.segment.impl.metadata.sqlite:Delete of nonexisting embedding ID: 213\n",
            "WARNING:chromadb.segment.impl.vector.local_persistent_hnsw:Delete of nonexisting embedding ID: 1071\n",
            "WARNING:chromadb.segment.impl.metadata.sqlite:Delete of nonexisting embedding ID: 1071\n",
            "WARNING:chromadb.segment.impl.vector.local_persistent_hnsw:Delete of nonexisting embedding ID: 126\n",
            "WARNING:chromadb.segment.impl.metadata.sqlite:Delete of nonexisting embedding ID: 126\n",
            "WARNING:chromadb.segment.impl.vector.local_persistent_hnsw:Delete of nonexisting embedding ID: 639\n",
            "WARNING:chromadb.segment.impl.metadata.sqlite:Delete of nonexisting embedding ID: 639\n",
            "WARNING:chromadb.segment.impl.vector.local_persistent_hnsw:Delete of nonexisting embedding ID: 284\n",
            "WARNING:chromadb.segment.impl.metadata.sqlite:Delete of nonexisting embedding ID: 284\n",
            "WARNING:chromadb.segment.impl.vector.local_persistent_hnsw:Delete of nonexisting embedding ID: 410\n",
            "WARNING:chromadb.segment.impl.metadata.sqlite:Delete of nonexisting embedding ID: 410\n",
            "WARNING:chromadb.segment.impl.vector.local_persistent_hnsw:Delete of nonexisting embedding ID: 1017\n",
            "WARNING:chromadb.segment.impl.metadata.sqlite:Delete of nonexisting embedding ID: 1017\n",
            "WARNING:chromadb.segment.impl.vector.local_persistent_hnsw:Delete of nonexisting embedding ID: 1007\n",
            "WARNING:chromadb.segment.impl.metadata.sqlite:Delete of nonexisting embedding ID: 1007\n",
            "WARNING:chromadb.segment.impl.vector.local_persistent_hnsw:Delete of nonexisting embedding ID: 189\n",
            "WARNING:chromadb.segment.impl.metadata.sqlite:Delete of nonexisting embedding ID: 189\n",
            "WARNING:chromadb.segment.impl.vector.local_persistent_hnsw:Delete of nonexisting embedding ID: 737\n",
            "WARNING:chromadb.segment.impl.metadata.sqlite:Delete of nonexisting embedding ID: 737\n",
            "WARNING:chromadb.segment.impl.vector.local_persistent_hnsw:Delete of nonexisting embedding ID: 1125\n",
            "WARNING:chromadb.segment.impl.metadata.sqlite:Delete of nonexisting embedding ID: 1125\n",
            "WARNING:chromadb.segment.impl.vector.local_persistent_hnsw:Delete of nonexisting embedding ID: 609\n",
            "WARNING:chromadb.segment.impl.metadata.sqlite:Delete of nonexisting embedding ID: 609\n",
            "WARNING:chromadb.segment.impl.vector.local_persistent_hnsw:Delete of nonexisting embedding ID: 451\n",
            "WARNING:chromadb.segment.impl.metadata.sqlite:Delete of nonexisting embedding ID: 451\n",
            "WARNING:chromadb.segment.impl.vector.local_persistent_hnsw:Delete of nonexisting embedding ID: 82\n",
            "WARNING:chromadb.segment.impl.metadata.sqlite:Delete of nonexisting embedding ID: 82\n",
            "WARNING:chromadb.segment.impl.vector.local_persistent_hnsw:Delete of nonexisting embedding ID: 889\n",
            "WARNING:chromadb.segment.impl.metadata.sqlite:Delete of nonexisting embedding ID: 889\n",
            "WARNING:chromadb.segment.impl.vector.local_persistent_hnsw:Delete of nonexisting embedding ID: 1115\n",
            "WARNING:chromadb.segment.impl.metadata.sqlite:Delete of nonexisting embedding ID: 1115\n",
            "WARNING:chromadb.segment.impl.vector.local_persistent_hnsw:Delete of nonexisting embedding ID: 10\n",
            "WARNING:chromadb.segment.impl.metadata.sqlite:Delete of nonexisting embedding ID: 10\n",
            "WARNING:chromadb.segment.impl.vector.local_persistent_hnsw:Delete of nonexisting embedding ID: 374\n",
            "WARNING:chromadb.segment.impl.metadata.sqlite:Delete of nonexisting embedding ID: 374\n",
            "WARNING:chromadb.segment.impl.vector.local_persistent_hnsw:Delete of nonexisting embedding ID: 479\n",
            "WARNING:chromadb.segment.impl.metadata.sqlite:Delete of nonexisting embedding ID: 479\n",
            "WARNING:chromadb.segment.impl.vector.local_persistent_hnsw:Delete of nonexisting embedding ID: 566\n",
            "WARNING:chromadb.segment.impl.metadata.sqlite:Delete of nonexisting embedding ID: 566\n",
            "WARNING:chromadb.segment.impl.vector.local_persistent_hnsw:Delete of nonexisting embedding ID: 396\n",
            "WARNING:chromadb.segment.impl.metadata.sqlite:Delete of nonexisting embedding ID: 396\n",
            "WARNING:chromadb.segment.impl.vector.local_persistent_hnsw:Delete of nonexisting embedding ID: 682\n",
            "WARNING:chromadb.segment.impl.metadata.sqlite:Delete of nonexisting embedding ID: 682\n",
            "WARNING:chromadb.segment.impl.vector.local_persistent_hnsw:Delete of nonexisting embedding ID: 712\n",
            "WARNING:chromadb.segment.impl.metadata.sqlite:Delete of nonexisting embedding ID: 712\n",
            "WARNING:chromadb.segment.impl.vector.local_persistent_hnsw:Delete of nonexisting embedding ID: 490\n",
            "WARNING:chromadb.segment.impl.metadata.sqlite:Delete of nonexisting embedding ID: 490\n",
            "WARNING:chromadb.segment.impl.vector.local_persistent_hnsw:Delete of nonexisting embedding ID: 1138\n",
            "WARNING:chromadb.segment.impl.metadata.sqlite:Delete of nonexisting embedding ID: 1138\n",
            "WARNING:chromadb.segment.impl.vector.local_persistent_hnsw:Delete of nonexisting embedding ID: 903\n",
            "WARNING:chromadb.segment.impl.metadata.sqlite:Delete of nonexisting embedding ID: 903\n",
            "WARNING:chromadb.segment.impl.vector.local_persistent_hnsw:Delete of nonexisting embedding ID: 600\n",
            "WARNING:chromadb.segment.impl.metadata.sqlite:Delete of nonexisting embedding ID: 600\n",
            "WARNING:chromadb.segment.impl.vector.local_persistent_hnsw:Delete of nonexisting embedding ID: 227\n",
            "WARNING:chromadb.segment.impl.metadata.sqlite:Delete of nonexisting embedding ID: 227\n",
            "WARNING:chromadb.segment.impl.vector.local_persistent_hnsw:Delete of nonexisting embedding ID: 604\n",
            "WARNING:chromadb.segment.impl.metadata.sqlite:Delete of nonexisting embedding ID: 604\n",
            "WARNING:chromadb.segment.impl.vector.local_persistent_hnsw:Delete of nonexisting embedding ID: 783\n",
            "WARNING:chromadb.segment.impl.metadata.sqlite:Delete of nonexisting embedding ID: 783\n",
            "WARNING:chromadb.segment.impl.vector.local_persistent_hnsw:Delete of nonexisting embedding ID: 218\n",
            "WARNING:chromadb.segment.impl.metadata.sqlite:Delete of nonexisting embedding ID: 218\n",
            "WARNING:chromadb.segment.impl.vector.local_persistent_hnsw:Delete of nonexisting embedding ID: 282\n",
            "WARNING:chromadb.segment.impl.metadata.sqlite:Delete of nonexisting embedding ID: 282\n",
            "WARNING:chromadb.segment.impl.vector.local_persistent_hnsw:Delete of nonexisting embedding ID: 821\n",
            "WARNING:chromadb.segment.impl.metadata.sqlite:Delete of nonexisting embedding ID: 821\n",
            "WARNING:chromadb.segment.impl.vector.local_persistent_hnsw:Delete of nonexisting embedding ID: 659\n",
            "WARNING:chromadb.segment.impl.metadata.sqlite:Delete of nonexisting embedding ID: 659\n",
            "WARNING:chromadb.segment.impl.vector.local_persistent_hnsw:Delete of nonexisting embedding ID: 197\n",
            "WARNING:chromadb.segment.impl.metadata.sqlite:Delete of nonexisting embedding ID: 197\n",
            "WARNING:chromadb.segment.impl.vector.local_persistent_hnsw:Delete of nonexisting embedding ID: 857\n",
            "WARNING:chromadb.segment.impl.metadata.sqlite:Delete of nonexisting embedding ID: 857\n",
            "WARNING:chromadb.segment.impl.vector.local_persistent_hnsw:Delete of nonexisting embedding ID: 711\n",
            "WARNING:chromadb.segment.impl.metadata.sqlite:Delete of nonexisting embedding ID: 711\n",
            "WARNING:chromadb.segment.impl.vector.local_persistent_hnsw:Delete of nonexisting embedding ID: 221\n",
            "WARNING:chromadb.segment.impl.metadata.sqlite:Delete of nonexisting embedding ID: 221\n",
            "WARNING:chromadb.segment.impl.vector.local_persistent_hnsw:Delete of nonexisting embedding ID: 998\n",
            "WARNING:chromadb.segment.impl.metadata.sqlite:Delete of nonexisting embedding ID: 998\n",
            "WARNING:chromadb.segment.impl.vector.local_persistent_hnsw:Delete of nonexisting embedding ID: 426\n",
            "WARNING:chromadb.segment.impl.metadata.sqlite:Delete of nonexisting embedding ID: 426\n",
            "WARNING:chromadb.segment.impl.vector.local_persistent_hnsw:Delete of nonexisting embedding ID: 71\n",
            "WARNING:chromadb.segment.impl.metadata.sqlite:Delete of nonexisting embedding ID: 71\n",
            "WARNING:chromadb.segment.impl.vector.local_persistent_hnsw:Delete of nonexisting embedding ID: 773\n",
            "WARNING:chromadb.segment.impl.metadata.sqlite:Delete of nonexisting embedding ID: 773\n",
            "WARNING:chromadb.segment.impl.vector.local_persistent_hnsw:Delete of nonexisting embedding ID: 941\n",
            "WARNING:chromadb.segment.impl.metadata.sqlite:Delete of nonexisting embedding ID: 941\n",
            "WARNING:chromadb.segment.impl.vector.local_persistent_hnsw:Delete of nonexisting embedding ID: 957\n",
            "WARNING:chromadb.segment.impl.metadata.sqlite:Delete of nonexisting embedding ID: 957\n",
            "WARNING:chromadb.segment.impl.vector.local_persistent_hnsw:Delete of nonexisting embedding ID: 602\n",
            "WARNING:chromadb.segment.impl.metadata.sqlite:Delete of nonexisting embedding ID: 602\n",
            "WARNING:chromadb.segment.impl.vector.local_persistent_hnsw:Delete of nonexisting embedding ID: 411\n",
            "WARNING:chromadb.segment.impl.metadata.sqlite:Delete of nonexisting embedding ID: 411\n",
            "WARNING:chromadb.segment.impl.vector.local_persistent_hnsw:Delete of nonexisting embedding ID: 901\n",
            "WARNING:chromadb.segment.impl.metadata.sqlite:Delete of nonexisting embedding ID: 901\n",
            "WARNING:chromadb.segment.impl.vector.local_persistent_hnsw:Delete of nonexisting embedding ID: 466\n",
            "WARNING:chromadb.segment.impl.metadata.sqlite:Delete of nonexisting embedding ID: 466\n",
            "WARNING:chromadb.segment.impl.vector.local_persistent_hnsw:Delete of nonexisting embedding ID: 1123\n",
            "WARNING:chromadb.segment.impl.metadata.sqlite:Delete of nonexisting embedding ID: 1123\n",
            "WARNING:chromadb.segment.impl.vector.local_persistent_hnsw:Delete of nonexisting embedding ID: 1044\n",
            "WARNING:chromadb.segment.impl.metadata.sqlite:Delete of nonexisting embedding ID: 1044\n",
            "WARNING:chromadb.segment.impl.vector.local_persistent_hnsw:Delete of nonexisting embedding ID: 542\n",
            "WARNING:chromadb.segment.impl.metadata.sqlite:Delete of nonexisting embedding ID: 542\n",
            "WARNING:chromadb.segment.impl.vector.local_persistent_hnsw:Delete of nonexisting embedding ID: 486\n",
            "WARNING:chromadb.segment.impl.metadata.sqlite:Delete of nonexisting embedding ID: 486\n",
            "WARNING:chromadb.segment.impl.vector.local_persistent_hnsw:Delete of nonexisting embedding ID: 129\n",
            "WARNING:chromadb.segment.impl.metadata.sqlite:Delete of nonexisting embedding ID: 129\n",
            "WARNING:chromadb.segment.impl.vector.local_persistent_hnsw:Delete of nonexisting embedding ID: 571\n",
            "WARNING:chromadb.segment.impl.metadata.sqlite:Delete of nonexisting embedding ID: 571\n",
            "WARNING:chromadb.segment.impl.vector.local_persistent_hnsw:Delete of nonexisting embedding ID: 994\n",
            "WARNING:chromadb.segment.impl.metadata.sqlite:Delete of nonexisting embedding ID: 994\n",
            "WARNING:chromadb.segment.impl.vector.local_persistent_hnsw:Delete of nonexisting embedding ID: 977\n",
            "WARNING:chromadb.segment.impl.metadata.sqlite:Delete of nonexisting embedding ID: 977\n",
            "WARNING:chromadb.segment.impl.vector.local_persistent_hnsw:Delete of nonexisting embedding ID: 928\n",
            "WARNING:chromadb.segment.impl.metadata.sqlite:Delete of nonexisting embedding ID: 928\n",
            "WARNING:chromadb.segment.impl.vector.local_persistent_hnsw:Delete of nonexisting embedding ID: 59\n",
            "WARNING:chromadb.segment.impl.metadata.sqlite:Delete of nonexisting embedding ID: 59\n",
            "WARNING:chromadb.segment.impl.vector.local_persistent_hnsw:Delete of nonexisting embedding ID: 569\n",
            "WARNING:chromadb.segment.impl.metadata.sqlite:Delete of nonexisting embedding ID: 569\n",
            "WARNING:chromadb.segment.impl.vector.local_persistent_hnsw:Delete of nonexisting embedding ID: 753\n",
            "WARNING:chromadb.segment.impl.metadata.sqlite:Delete of nonexisting embedding ID: 753\n",
            "WARNING:chromadb.segment.impl.vector.local_persistent_hnsw:Delete of nonexisting embedding ID: 709\n",
            "WARNING:chromadb.segment.impl.metadata.sqlite:Delete of nonexisting embedding ID: 709\n",
            "WARNING:chromadb.segment.impl.vector.local_persistent_hnsw:Delete of nonexisting embedding ID: 1045\n",
            "WARNING:chromadb.segment.impl.metadata.sqlite:Delete of nonexisting embedding ID: 1045\n",
            "WARNING:chromadb.segment.impl.vector.local_persistent_hnsw:Delete of nonexisting embedding ID: 150\n",
            "WARNING:chromadb.segment.impl.metadata.sqlite:Delete of nonexisting embedding ID: 150\n",
            "WARNING:chromadb.segment.impl.vector.local_persistent_hnsw:Delete of nonexisting embedding ID: 806\n",
            "WARNING:chromadb.segment.impl.metadata.sqlite:Delete of nonexisting embedding ID: 806\n",
            "WARNING:chromadb.segment.impl.vector.local_persistent_hnsw:Delete of nonexisting embedding ID: 596\n",
            "WARNING:chromadb.segment.impl.metadata.sqlite:Delete of nonexisting embedding ID: 596\n",
            "WARNING:chromadb.segment.impl.vector.local_persistent_hnsw:Delete of nonexisting embedding ID: 235\n",
            "WARNING:chromadb.segment.impl.metadata.sqlite:Delete of nonexisting embedding ID: 235\n",
            "WARNING:chromadb.segment.impl.vector.local_persistent_hnsw:Delete of nonexisting embedding ID: 813\n",
            "WARNING:chromadb.segment.impl.metadata.sqlite:Delete of nonexisting embedding ID: 813\n",
            "WARNING:chromadb.segment.impl.vector.local_persistent_hnsw:Delete of nonexisting embedding ID: 51\n",
            "WARNING:chromadb.segment.impl.metadata.sqlite:Delete of nonexisting embedding ID: 51\n",
            "WARNING:chromadb.segment.impl.vector.local_persistent_hnsw:Delete of nonexisting embedding ID: 649\n",
            "WARNING:chromadb.segment.impl.metadata.sqlite:Delete of nonexisting embedding ID: 649\n",
            "WARNING:chromadb.segment.impl.vector.local_persistent_hnsw:Delete of nonexisting embedding ID: 53\n",
            "WARNING:chromadb.segment.impl.metadata.sqlite:Delete of nonexisting embedding ID: 53\n",
            "WARNING:chromadb.segment.impl.vector.local_persistent_hnsw:Delete of nonexisting embedding ID: 81\n",
            "WARNING:chromadb.segment.impl.metadata.sqlite:Delete of nonexisting embedding ID: 81\n",
            "WARNING:chromadb.segment.impl.vector.local_persistent_hnsw:Delete of nonexisting embedding ID: 687\n",
            "WARNING:chromadb.segment.impl.metadata.sqlite:Delete of nonexisting embedding ID: 687\n",
            "WARNING:chromadb.segment.impl.vector.local_persistent_hnsw:Delete of nonexisting embedding ID: 918\n",
            "WARNING:chromadb.segment.impl.metadata.sqlite:Delete of nonexisting embedding ID: 918\n",
            "WARNING:chromadb.segment.impl.vector.local_persistent_hnsw:Delete of nonexisting embedding ID: 384\n",
            "WARNING:chromadb.segment.impl.metadata.sqlite:Delete of nonexisting embedding ID: 384\n",
            "WARNING:chromadb.segment.impl.vector.local_persistent_hnsw:Delete of nonexisting embedding ID: 1113\n",
            "WARNING:chromadb.segment.impl.metadata.sqlite:Delete of nonexisting embedding ID: 1113\n",
            "WARNING:chromadb.segment.impl.vector.local_persistent_hnsw:Delete of nonexisting embedding ID: 546\n",
            "WARNING:chromadb.segment.impl.metadata.sqlite:Delete of nonexisting embedding ID: 546\n",
            "WARNING:chromadb.segment.impl.vector.local_persistent_hnsw:Delete of nonexisting embedding ID: 671\n",
            "WARNING:chromadb.segment.impl.metadata.sqlite:Delete of nonexisting embedding ID: 671\n",
            "WARNING:chromadb.segment.impl.vector.local_persistent_hnsw:Delete of nonexisting embedding ID: 968\n",
            "WARNING:chromadb.segment.impl.metadata.sqlite:Delete of nonexisting embedding ID: 968\n",
            "WARNING:chromadb.segment.impl.vector.local_persistent_hnsw:Delete of nonexisting embedding ID: 96\n",
            "WARNING:chromadb.segment.impl.metadata.sqlite:Delete of nonexisting embedding ID: 96\n",
            "WARNING:chromadb.segment.impl.vector.local_persistent_hnsw:Delete of nonexisting embedding ID: 89\n",
            "WARNING:chromadb.segment.impl.metadata.sqlite:Delete of nonexisting embedding ID: 89\n",
            "WARNING:chromadb.segment.impl.vector.local_persistent_hnsw:Delete of nonexisting embedding ID: 204\n",
            "WARNING:chromadb.segment.impl.metadata.sqlite:Delete of nonexisting embedding ID: 204\n",
            "WARNING:chromadb.segment.impl.vector.local_persistent_hnsw:Delete of nonexisting embedding ID: 674\n",
            "WARNING:chromadb.segment.impl.metadata.sqlite:Delete of nonexisting embedding ID: 674\n",
            "WARNING:chromadb.segment.impl.vector.local_persistent_hnsw:Delete of nonexisting embedding ID: 641\n",
            "WARNING:chromadb.segment.impl.metadata.sqlite:Delete of nonexisting embedding ID: 641\n",
            "WARNING:chromadb.segment.impl.vector.local_persistent_hnsw:Delete of nonexisting embedding ID: 73\n",
            "WARNING:chromadb.segment.impl.metadata.sqlite:Delete of nonexisting embedding ID: 73\n",
            "WARNING:chromadb.segment.impl.vector.local_persistent_hnsw:Delete of nonexisting embedding ID: 814\n",
            "WARNING:chromadb.segment.impl.metadata.sqlite:Delete of nonexisting embedding ID: 814\n",
            "WARNING:chromadb.segment.impl.vector.local_persistent_hnsw:Delete of nonexisting embedding ID: 307\n",
            "WARNING:chromadb.segment.impl.metadata.sqlite:Delete of nonexisting embedding ID: 307\n",
            "WARNING:chromadb.segment.impl.vector.local_persistent_hnsw:Delete of nonexisting embedding ID: 612\n",
            "WARNING:chromadb.segment.impl.metadata.sqlite:Delete of nonexisting embedding ID: 612\n",
            "WARNING:chromadb.segment.impl.vector.local_persistent_hnsw:Delete of nonexisting embedding ID: 7\n",
            "WARNING:chromadb.segment.impl.metadata.sqlite:Delete of nonexisting embedding ID: 7\n",
            "WARNING:chromadb.segment.impl.vector.local_persistent_hnsw:Delete of nonexisting embedding ID: 893\n",
            "WARNING:chromadb.segment.impl.metadata.sqlite:Delete of nonexisting embedding ID: 893\n",
            "WARNING:chromadb.segment.impl.vector.local_persistent_hnsw:Delete of nonexisting embedding ID: 171\n",
            "WARNING:chromadb.segment.impl.metadata.sqlite:Delete of nonexisting embedding ID: 171\n",
            "WARNING:chromadb.segment.impl.vector.local_persistent_hnsw:Delete of nonexisting embedding ID: 93\n",
            "WARNING:chromadb.segment.impl.metadata.sqlite:Delete of nonexisting embedding ID: 93\n",
            "WARNING:chromadb.segment.impl.vector.local_persistent_hnsw:Delete of nonexisting embedding ID: 1022\n",
            "WARNING:chromadb.segment.impl.metadata.sqlite:Delete of nonexisting embedding ID: 1022\n",
            "WARNING:chromadb.segment.impl.vector.local_persistent_hnsw:Delete of nonexisting embedding ID: 525\n",
            "WARNING:chromadb.segment.impl.metadata.sqlite:Delete of nonexisting embedding ID: 525\n",
            "WARNING:chromadb.segment.impl.vector.local_persistent_hnsw:Delete of nonexisting embedding ID: 449\n",
            "WARNING:chromadb.segment.impl.metadata.sqlite:Delete of nonexisting embedding ID: 449\n"
          ]
        },
        {
          "output_type": "stream",
          "name": "stdout",
          "text": [
            "Deleted 100 IDs from the collection 'Java-VectorDataBase-Qwen2.5-Coder-7B'.\n",
            "Remaining number of documents: 1038\n"
          ]
        }
      ]
    },
    {
      "cell_type": "code",
      "source": [
        "delete_ids_that_from_file(\n",
        "    db_path=\"/content/drive/MyDrive/All DB/Code/JavaScript-qween-VectorDB\",\n",
        "    collection_name=\"JavaScript-VectorDataBase-Qwen2.5-Coder-7B\"\n",
        ")"
      ],
      "metadata": {
        "colab": {
          "base_uri": "https://localhost:8080/"
        },
        "outputId": "6a2c0050-6175-4da3-9343-b827d66ab832",
        "id": "CZl3eNyoIFFC"
      },
      "execution_count": 32,
      "outputs": [
        {
          "output_type": "stream",
          "name": "stdout",
          "text": [
            "Loaded 100 IDs from deleted_ids.txt.\n",
            "Initial number of documents: 1138\n",
            "Deleted 100 IDs from the collection 'JavaScript-VectorDataBase-Qwen2.5-Coder-7B'.\n",
            "Remaining number of documents: 1038\n"
          ]
        }
      ]
    },
    {
      "cell_type": "code",
      "source": [
        "# delete_ids_that_from_file(\n",
        "#     db_path=\"/content/drive/MyDrive/All DB/Code/Java_Script_VDB_Graph_Code_Bert\",\n",
        "#     collection_name=\"CODEJSCRIPT\"\n",
        "# )"
      ],
      "metadata": {
        "colab": {
          "base_uri": "https://localhost:8080/"
        },
        "id": "ZpkNoJ1rIOen",
        "outputId": "bab091fe-5d17-4220-a61d-557e7f1a3b10"
      },
      "execution_count": 37,
      "outputs": [
        {
          "output_type": "stream",
          "name": "stdout",
          "text": [
            "Loaded 100 IDs from deleted_ids.txt.\n",
            "Initial number of documents: 1138\n"
          ]
        },
        {
          "output_type": "stream",
          "name": "stderr",
          "text": [
            "WARNING:chromadb.segment.impl.vector.local_persistent_hnsw:Delete of nonexisting embedding ID: 1138\n",
            "WARNING:chromadb.segment.impl.metadata.sqlite:Delete of nonexisting embedding ID: 1138\n"
          ]
        },
        {
          "output_type": "stream",
          "name": "stdout",
          "text": [
            "Deleted 100 IDs from the collection 'CODEJSCRIPT'.\n",
            "Remaining number of documents: 1039\n"
          ]
        }
      ]
    },
    {
      "cell_type": "code",
      "source": [
        "# delete_ids_that_from_file(\n",
        "#     db_path=\"/content/drive/MyDrive/All DB/Code/Java_VDB_Graph_Code_Bert\",\n",
        "#     collection_name=\"CODEJAVA\"\n",
        "# )"
      ],
      "metadata": {
        "colab": {
          "base_uri": "https://localhost:8080/"
        },
        "id": "BsyOD4qFIsJM",
        "outputId": "ac2bf078-75b9-4dc2-cc98-cf42d17529f0"
      },
      "execution_count": 42,
      "outputs": [
        {
          "output_type": "stream",
          "name": "stdout",
          "text": [
            "Loaded 100 IDs from deleted_ids.txt.\n",
            "Initial number of documents: 1138\n"
          ]
        },
        {
          "output_type": "stream",
          "name": "stderr",
          "text": [
            "WARNING:chromadb.segment.impl.metadata.sqlite:Delete of nonexisting embedding ID: 1138\n",
            "WARNING:chromadb.segment.impl.vector.local_persistent_hnsw:Delete of nonexisting embedding ID: 1138\n"
          ]
        },
        {
          "output_type": "stream",
          "name": "stdout",
          "text": [
            "Deleted 100 IDs from the collection 'CODEJAVA'.\n",
            "Remaining number of documents: 1039\n"
          ]
        }
      ]
    },
    {
      "cell_type": "code",
      "source": [
        "# delete_ids_that_from_file(\n",
        "#     db_path=\"/content/drive/MyDrive/All DB/Code/Python_VDB_Graph_Code_BERT\",\n",
        "#     collection_name=\"codePY\"\n",
        "# )"
      ],
      "metadata": {
        "colab": {
          "base_uri": "https://localhost:8080/"
        },
        "id": "f29_msFbI5GR",
        "outputId": "7261c161-a0f7-4499-ddcb-54612748e266"
      },
      "execution_count": 47,
      "outputs": [
        {
          "output_type": "stream",
          "name": "stdout",
          "text": [
            "Loaded 100 IDs from deleted_ids.txt.\n",
            "Initial number of documents: 1138\n"
          ]
        },
        {
          "output_type": "stream",
          "name": "stderr",
          "text": [
            "WARNING:chromadb.segment.impl.vector.local_persistent_hnsw:Delete of nonexisting embedding ID: 1138\n",
            "WARNING:chromadb.segment.impl.metadata.sqlite:Delete of nonexisting embedding ID: 1138\n"
          ]
        },
        {
          "output_type": "stream",
          "name": "stdout",
          "text": [
            "Deleted 100 IDs from the collection 'codePY'.\n",
            "Remaining number of documents: 1039\n"
          ]
        }
      ]
    },
    {
      "cell_type": "code",
      "source": [
        "delete_ids_that_from_file(\n",
        "    db_path=\"/content/drive/MyDrive/All DB/Code/c++-qwen-VectorDB\",\n",
        "    collection_name=\"CVectorDataBase-Qwen2.5-Coder-7B\"\n",
        ")"
      ],
      "metadata": {
        "colab": {
          "base_uri": "https://localhost:8080/"
        },
        "id": "h4OdzembJIBP",
        "outputId": "647abbd8-4b45-4665-c7ee-da53ae39c8e8"
      },
      "execution_count": 52,
      "outputs": [
        {
          "output_type": "stream",
          "name": "stdout",
          "text": [
            "Loaded 100 IDs from deleted_ids.txt.\n",
            "Initial number of documents: 1138\n",
            "Deleted 100 IDs from the collection 'CVectorDataBase-Qwen2.5-Coder-7B'.\n",
            "Remaining number of documents: 1038\n"
          ]
        }
      ]
    },
    {
      "cell_type": "code",
      "source": [
        "delete_ids_that_from_file(\n",
        "    db_path=\"/content/drive/MyDrive/All DB/Code/java_codet5_code_Vdb\",\n",
        "    collection_name=\"java_codet5_code_collection\"\n",
        ")"
      ],
      "metadata": {
        "colab": {
          "base_uri": "https://localhost:8080/"
        },
        "id": "scAIdxkvJSe6",
        "outputId": "0e577079-6f64-4d75-f98c-dae9a9f07d3c"
      },
      "execution_count": 57,
      "outputs": [
        {
          "output_type": "stream",
          "name": "stdout",
          "text": [
            "Loaded 100 IDs from deleted_ids.txt.\n",
            "Initial number of documents: 1138\n",
            "Deleted 100 IDs from the collection 'java_codet5_code_collection'.\n",
            "Remaining number of documents: 1038\n"
          ]
        }
      ]
    },
    {
      "cell_type": "code",
      "source": [
        "delete_ids_that_from_file(\n",
        "    db_path=\"/content/drive/MyDrive/All DB/Code/javascript_codet5_code_Vdb\",\n",
        "    collection_name=\"javascript_codet5_code_collection\"\n",
        ")"
      ],
      "metadata": {
        "colab": {
          "base_uri": "https://localhost:8080/"
        },
        "id": "EntdoxFpJeeC",
        "outputId": "af570b4b-d969-496f-c9ca-1aaf43062b3f"
      },
      "execution_count": 62,
      "outputs": [
        {
          "output_type": "stream",
          "name": "stdout",
          "text": [
            "Loaded 100 IDs from deleted_ids.txt.\n",
            "Initial number of documents: 1138\n",
            "Deleted 100 IDs from the collection 'javascript_codet5_code_collection'.\n",
            "Remaining number of documents: 1038\n"
          ]
        }
      ]
    },
    {
      "cell_type": "code",
      "source": [
        "delete_ids_that_from_file(\n",
        "    db_path=\"/content/drive/MyDrive/All DB/Code/python-qwen-VectorDB\",\n",
        "    collection_name=\"pythonVectorDataBase-Qwen2.5-Coder-7B\"\n",
        ")"
      ],
      "metadata": {
        "colab": {
          "base_uri": "https://localhost:8080/"
        },
        "id": "JPMUhJiRJqMR",
        "outputId": "2c6b4619-e62f-4465-e229-af09969cc2cb"
      },
      "execution_count": 67,
      "outputs": [
        {
          "output_type": "stream",
          "name": "stdout",
          "text": [
            "Loaded 100 IDs from deleted_ids.txt.\n",
            "Initial number of documents: 1138\n",
            "Deleted 100 IDs from the collection 'pythonVectorDataBase-Qwen2.5-Coder-7B'.\n",
            "Remaining number of documents: 1038\n"
          ]
        }
      ]
    },
    {
      "cell_type": "code",
      "source": [
        "delete_ids_that_from_file(\n",
        "    db_path=\"/content/drive/MyDrive/All DB/Code/python_codet5_code_Vdb\",\n",
        "    collection_name=\"python_codet5_code_collection\"\n",
        ")"
      ],
      "metadata": {
        "colab": {
          "base_uri": "https://localhost:8080/"
        },
        "id": "p33bo5ChJ1PP",
        "outputId": "6be0991f-7911-443b-f324-3743a815f1a4"
      },
      "execution_count": 72,
      "outputs": [
        {
          "output_type": "stream",
          "name": "stdout",
          "text": [
            "Loaded 100 IDs from deleted_ids.txt.\n",
            "Initial number of documents: 1138\n",
            "Deleted 100 IDs from the collection 'python_codet5_code_collection'.\n",
            "Remaining number of documents: 1038\n"
          ]
        }
      ]
    },
    {
      "cell_type": "markdown",
      "source": [
        "# desc"
      ],
      "metadata": {
        "id": "YgDSzibLKSJN"
      }
    },
    {
      "cell_type": "code",
      "source": [
        "delete_ids_that_from_file(\n",
        "    db_path=\"/content/drive/MyDrive/All DB/Desc/C_codet5_disc_Vdb\",\n",
        "    collection_name=\"C_codet5_disc_collection\"\n",
        ")"
      ],
      "metadata": {
        "colab": {
          "base_uri": "https://localhost:8080/"
        },
        "id": "PSscMb80J_4X",
        "outputId": "144b201b-a5f0-4f5e-c992-78f67ea22272"
      },
      "execution_count": 77,
      "outputs": [
        {
          "output_type": "stream",
          "name": "stdout",
          "text": [
            "Loaded 100 IDs from deleted_ids.txt.\n",
            "Initial number of documents: 1138\n",
            "Deleted 100 IDs from the collection 'C_codet5_disc_collection'.\n",
            "Remaining number of documents: 1038\n"
          ]
        }
      ]
    },
    {
      "cell_type": "code",
      "source": [
        "delete_ids_that_from_file(\n",
        "    db_path=\"/content/drive/MyDrive/All DB/Desc/Chroma_DB_JavaScript_Desc_falcon\",\n",
        "    collection_name=\"JavaScript-VectorDB-Desc-Falcon\"\n",
        ")"
      ],
      "metadata": {
        "colab": {
          "base_uri": "https://localhost:8080/"
        },
        "id": "TPRzSuheKKdg",
        "outputId": "192415e8-42af-4d7d-c666-6a74652d8dd0"
      },
      "execution_count": 82,
      "outputs": [
        {
          "output_type": "stream",
          "name": "stdout",
          "text": [
            "Loaded 100 IDs from deleted_ids.txt.\n",
            "Initial number of documents: 1138\n",
            "Deleted 100 IDs from the collection 'JavaScript-VectorDB-Desc-Falcon'.\n",
            "Remaining number of documents: 1038\n"
          ]
        }
      ]
    },
    {
      "cell_type": "code",
      "source": [
        "delete_ids_that_from_file(\n",
        "    db_path=\"/content/drive/MyDrive/All DB/Desc/Chroma_DB_Java_Desc_falcon\",\n",
        "    collection_name=\"Java-VectorDB-Desc-Falcon\"\n",
        ")"
      ],
      "metadata": {
        "colab": {
          "base_uri": "https://localhost:8080/"
        },
        "id": "p4G_Sg5FKb3m",
        "outputId": "e52cfd3e-0cba-4f55-f1fe-b696e91a740d"
      },
      "execution_count": 87,
      "outputs": [
        {
          "output_type": "stream",
          "name": "stdout",
          "text": [
            "Loaded 100 IDs from deleted_ids.txt.\n",
            "Initial number of documents: 1138\n",
            "Deleted 100 IDs from the collection 'Java-VectorDB-Desc-Falcon'.\n",
            "Remaining number of documents: 1038\n"
          ]
        }
      ]
    },
    {
      "cell_type": "code",
      "source": [
        "delete_ids_that_from_file(\n",
        "    db_path=\"/content/drive/MyDrive/All DB/Desc/Chroma_DB_Py_Desc_falcon\",\n",
        "    collection_name=\"Python-VectorDB-Desc-Falcon\"\n",
        ")"
      ],
      "metadata": {
        "colab": {
          "base_uri": "https://localhost:8080/"
        },
        "id": "uD8dYFTsKo2S",
        "outputId": "7a434a5b-20ff-4142-d0b4-139e90c110ca"
      },
      "execution_count": 93,
      "outputs": [
        {
          "output_type": "stream",
          "name": "stdout",
          "text": [
            "Loaded 100 IDs from deleted_ids.txt.\n",
            "Initial number of documents: 1138\n",
            "Deleted 100 IDs from the collection 'Python-VectorDB-Desc-Falcon'.\n",
            "Remaining number of documents: 1038\n"
          ]
        }
      ]
    },
    {
      "cell_type": "code",
      "source": [
        "delete_ids_that_from_file(\n",
        "    db_path=\"/content/drive/MyDrive/All DB/Desc/chroma_db_c_desc_falcon\",\n",
        "    collection_name=\"C-VectorDB-Desc-Falcon\"\n",
        ")"
      ],
      "metadata": {
        "colab": {
          "base_uri": "https://localhost:8080/"
        },
        "id": "lXpCAGS7K288",
        "outputId": "54ea8f3a-5b7b-4afa-8c12-ad29ef68eed8"
      },
      "execution_count": 98,
      "outputs": [
        {
          "output_type": "stream",
          "name": "stdout",
          "text": [
            "Loaded 100 IDs from deleted_ids.txt.\n",
            "Initial number of documents: 1138\n",
            "Deleted 100 IDs from the collection 'C-VectorDB-Desc-Falcon'.\n",
            "Remaining number of documents: 1038\n"
          ]
        }
      ]
    },
    {
      "cell_type": "code",
      "source": [
        "delete_ids_that_from_file(\n",
        "    db_path=\"/content/drive/MyDrive/All DB/Desc/java_codet5_disc_Vdb\",\n",
        "    collection_name=\"java_codet5_disc_collection\"\n",
        ")"
      ],
      "metadata": {
        "colab": {
          "base_uri": "https://localhost:8080/"
        },
        "id": "fTWC25MTLEvJ",
        "outputId": "b8e9ca92-bdf4-4ffc-8074-034e05394e8b"
      },
      "execution_count": 103,
      "outputs": [
        {
          "output_type": "stream",
          "name": "stdout",
          "text": [
            "Loaded 100 IDs from deleted_ids.txt.\n",
            "Initial number of documents: 1138\n",
            "Deleted 100 IDs from the collection 'java_codet5_disc_collection'.\n",
            "Remaining number of documents: 1038\n"
          ]
        }
      ]
    },
    {
      "cell_type": "code",
      "source": [
        "delete_ids_that_from_file(\n",
        "    db_path=\"/content/drive/MyDrive/All DB/Desc/javascript_codet5_disc_Vdb\",\n",
        "    collection_name=\"javascript_codet5_disc_collection\"\n",
        ")"
      ],
      "metadata": {
        "colab": {
          "base_uri": "https://localhost:8080/"
        },
        "id": "bjnjyfwrLpPf",
        "outputId": "c07df896-e6d0-421c-fb00-806bcd1a00b1"
      },
      "execution_count": 113,
      "outputs": [
        {
          "output_type": "stream",
          "name": "stdout",
          "text": [
            "Loaded 100 IDs from deleted_ids.txt.\n",
            "Initial number of documents: 1138\n",
            "Deleted 100 IDs from the collection 'javascript_codet5_disc_collection'.\n",
            "Remaining number of documents: 1038\n"
          ]
        }
      ]
    },
    {
      "cell_type": "code",
      "source": [
        "delete_ids_that_from_file(\n",
        "    db_path=\"/content/drive/MyDrive/All DB/Desc/python_codet5_disc_Vdb\",\n",
        "    collection_name=\"python_codet5_disc_collection\"\n",
        ")"
      ],
      "metadata": {
        "colab": {
          "base_uri": "https://localhost:8080/"
        },
        "id": "Mjjs4mSDLRG0",
        "outputId": "1a293ea3-3d5f-461c-f013-038307ab2805"
      },
      "execution_count": 108,
      "outputs": [
        {
          "output_type": "stream",
          "name": "stdout",
          "text": [
            "Loaded 100 IDs from deleted_ids.txt.\n",
            "Initial number of documents: 1138\n",
            "Deleted 100 IDs from the collection 'python_codet5_disc_collection'.\n",
            "Remaining number of documents: 1038\n"
          ]
        }
      ]
    }
  ]
}
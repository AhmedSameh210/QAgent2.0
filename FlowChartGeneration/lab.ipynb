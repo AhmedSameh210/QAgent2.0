{
 "cells": [
  {
   "cell_type": "code",
   "execution_count": 2,
   "metadata": {},
   "outputs": [
    {
     "name": "stdout",
     "output_type": "stream",
     "text": [
      "inf\n"
     ]
    }
   ],
   "source": [
    "print(float('inf'))"
   ]
  },
  {
   "cell_type": "code",
   "execution_count": null,
   "metadata": {},
   "outputs": [
    {
     "data": {
      "text/plain": [
       "<__main__.E at 0x75b98b523370>"
      ]
     },
     "execution_count": 7,
     "metadata": {},
     "output_type": "execute_result"
    }
   ],
   "source": [
    "class A: \n",
    "     def __init__(self): pass\n",
    "class B:\n",
    "     def __init__(self): pass\n",
    "class C:\n",
    "     def __init__(self): x = E()\n",
    "class D:\n",
    "     def __init__(self): pass\n",
    "class E:\n",
    "     def __init__(self): x = A()\n",
    "\n",
    "A()\n",
    "B()\n",
    "C()\n",
    "D()\n",
    "E()"
   ]
  },
  {
   "cell_type": "code",
   "execution_count": null,
   "metadata": {},
   "outputs": [
    {
     "name": "stdout",
     "output_type": "stream",
     "text": [
      "-5\n"
     ]
    }
   ],
   "source": [
    "\n",
    "\n",
    "def func(x,y): print(x - y)\n",
    "\n",
    "func (3,8)"
   ]
  },
  {
   "cell_type": "code",
   "execution_count": 5,
   "metadata": {},
   "outputs": [
    {
     "name": "stdout",
     "output_type": "stream",
     "text": [
      "{'a': 3, 'b': 3}\n"
     ]
    }
   ],
   "source": [
    "dic = {}\n",
    "\n",
    "dic.update({'a':3})\n",
    "dic.update({'b':3})\n",
    "\n",
    "\n",
    "print(dic)"
   ]
  },
  {
   "cell_type": "code",
   "execution_count": 6,
   "metadata": {},
   "outputs": [
    {
     "name": "stdout",
     "output_type": "stream",
     "text": [
      "3\n",
      "3\n"
     ]
    },
    {
     "data": {
      "text/plain": [
       "dict_values([3, 3])"
      ]
     },
     "execution_count": 6,
     "metadata": {},
     "output_type": "execute_result"
    }
   ],
   "source": [
    "for element in dic:\n",
    "    print(dic[element])\n",
    "\n",
    "\n",
    "dic.values()"
   ]
  },
  {
   "cell_type": "code",
   "execution_count": 10,
   "metadata": {},
   "outputs": [
    {
     "ename": "SyntaxError",
     "evalue": "'continue' not properly in loop (41890839.py, line 5)",
     "output_type": "error",
     "traceback": [
      "\u001b[0;36m  Cell \u001b[0;32mIn[10], line 5\u001b[0;36m\u001b[0m\n\u001b[0;31m    continue\u001b[0m\n\u001b[0m    ^\u001b[0m\n\u001b[0;31mSyntaxError\u001b[0m\u001b[0;31m:\u001b[0m 'continue' not properly in loop\n"
     ]
    }
   ],
   "source": [
    "i = 3\n",
    "\n",
    "if(i == 3):\n",
    "    print(\"AA\")\n",
    "    continue\n",
    "    print(\"B\")\n"
   ]
  },
  {
   "cell_type": "code",
   "execution_count": null,
   "metadata": {},
   "outputs": [],
   "source": [
    "\"Ahemd Ali Wael\""
   ]
  },
  {
   "cell_type": "code",
   "execution_count": null,
   "metadata": {},
   "outputs": [
    {
     "data": {
      "text/plain": [
       "'Here are some  and some  and also .'"
      ]
     },
     "execution_count": 4,
     "metadata": {},
     "output_type": "execute_result"
    }
   ],
   "source": [
    "# Pattern to match words inside single or double quotes\n",
    "pattern = r\"(['\\\"])(.*?)\\1\"\n",
    "\n",
    "matches = re.findall(pattern, line_of_code)\n",
    "\n",
    "filtered = [match[1] for match in matches]\n",
    "\n",
    "filtered_line_of_code = re.sub(\n",
    "    pattern,\n",
    "    lambda match: \"\" if match[2] in filtered else match.group(0),\n",
    "    line_of_code,\n",
    ")\n",
    "\n",
    "return filtered_line_of_code"
   ]
  },
  {
   "cell_type": "code",
   "execution_count": 5,
   "metadata": {},
   "outputs": [
    {
     "name": "stdout",
     "output_type": "stream",
     "text": [
      "WOW!\n"
     ]
    }
   ],
   "source": [
    "from collections import deque\n",
    "\n",
    "stack = deque()\n",
    "stack.append(3)\n",
    "len(stack)\n",
    "\n",
    "\n",
    "if[x for x in range(4)].count(2) == 1:\n",
    "    print(\"WOW!\")"
   ]
  },
  {
   "cell_type": "code",
   "execution_count": null,
   "metadata": {},
   "outputs": [
    {
     "name": "stdout",
     "output_type": "stream",
     "text": [
      "True\n"
     ]
    }
   ],
   "source": [
    "import ast\n",
    "\n",
    "def contains_keyword(code, keywords):\n",
    "    try:\n",
    "        # Parse the code into an AST\n",
    "        tree = ast.parse(code)\n",
    "        \n",
    "        # Traverse the AST nodes\n",
    "        for node in ast.walk(tree):\n",
    "            # Check for 'if' and 'elif'\n",
    "            if isinstance(node, ast.If):\n",
    "                if 'if' in keywords:\n",
    "                    return True\n",
    "                if 'elif' in keywords and node.orelse:\n",
    "                    for subnode in node.orelse:\n",
    "                        if isinstance(subnode, ast.If):\n",
    "                            return True\n",
    "            # Check for 'else' in orelse\n",
    "            if 'else' in keywords:\n",
    "                if hasattr(node, 'orelse') and node.orelse:\n",
    "                    return True\n",
    "            # Check for 'while'\n",
    "            if isinstance(node, ast.While) and 'while' in keywords:\n",
    "                return True\n",
    "            # Check for 'for'\n",
    "            if isinstance(node, ast.For) and 'for' in keywords:\n",
    "                return True\n",
    "\n",
    "        return False\n",
    "    except SyntaxError:\n",
    "        # Handle invalid Python code\n",
    "        return False\n",
    "    \n",
    "\n",
    "code_snippet = None\n",
    "\n",
    "with open('python_example4.py','r') as f: code_snippet = f.read()\n",
    "\n",
    "keywords_to_check = ['if', 'for']\n",
    "print(contains_keyword(code_snippet, keywords_to_check))  # Output: True"
   ]
  },
  {
   "cell_type": "code",
   "execution_count": 10,
   "metadata": {},
   "outputs": [
    {
     "ename": "TypeError",
     "evalue": "'NoneType' object is not callable",
     "output_type": "error",
     "traceback": [
      "\u001b[0;31m---------------------------------------------------------------------------\u001b[0m",
      "\u001b[0;31mTypeError\u001b[0m                                 Traceback (most recent call last)",
      "Cell \u001b[0;32mIn[10], line 45\u001b[0m\n\u001b[1;32m     38\u001b[0m         \u001b[38;5;28msuper\u001b[39m()\u001b[38;5;241m.\u001b[39mAbstractMethod()\n\u001b[1;32m     43\u001b[0m o2 \u001b[38;5;241m=\u001b[39m B()\n\u001b[0;32m---> 45\u001b[0m \u001b[43mo2\u001b[49m\u001b[38;5;241;43m.\u001b[39;49m\u001b[43mAbstractMethod\u001b[49m\u001b[43m(\u001b[49m\u001b[43m)\u001b[49m\n",
      "Cell \u001b[0;32mIn[10], line 38\u001b[0m, in \u001b[0;36mB.AbstractMethod\u001b[0;34m(self)\u001b[0m\n\u001b[1;32m     37\u001b[0m \u001b[38;5;28;01mdef\u001b[39;00m \u001b[38;5;21mAbstractMethod\u001b[39m(\u001b[38;5;28mself\u001b[39m):\n\u001b[0;32m---> 38\u001b[0m     \u001b[38;5;28;43msuper\u001b[39;49m\u001b[43m(\u001b[49m\u001b[43m)\u001b[49m\u001b[38;5;241;43m.\u001b[39;49m\u001b[43mAbstractMethod\u001b[49m\u001b[43m(\u001b[49m\u001b[43m)\u001b[49m\n",
      "\u001b[0;31mTypeError\u001b[0m: 'NoneType' object is not callable"
     ]
    }
   ],
   "source": [
    "from abc import ABC\n",
    "from abc import ABC, abstractmethod\n",
    "from Graph import Graph, Node\n",
    "from collections import deque\n",
    "from RQueue import RQueue\n",
    "from LineType import LineType\n",
    "import re\n",
    "\n",
    "class A(ABC):\n",
    "    def __init__(self):\n",
    "        self.a = 3\n",
    "        self.b = 'ahmed'\n",
    "    \n",
    "    def Method(self):\n",
    "        print(\"in parent\")\n",
    "        print(self.a)\n",
    "\n",
    "\n",
    "    @property\n",
    "    @abstractmethod\n",
    "    def AbstractMethod(self):\n",
    "        pass\n",
    "\n",
    "\n",
    "class B(A):\n",
    "    def __init__(self):\n",
    "        super().__init__()\n",
    "        self.c = True\n",
    "        self.a = [1,3,4,5]\n",
    "\n",
    "\n",
    "    def Method2(self):\n",
    "        super().Method()\n",
    "        print(\"in child\")\n",
    "        self.Method()\n",
    "\n",
    "    def AbstractMethod(self):\n",
    "        super().AbstractMethod()\n",
    "\n",
    "        \n",
    "\n",
    "\n",
    "o2 = B()\n",
    "\n",
    "o2.AbstractMethod()\n"
   ]
  },
  {
   "cell_type": "code",
   "execution_count": null,
   "metadata": {},
   "outputs": [],
   "source": []
  }
 ],
 "metadata": {
  "kernelspec": {
   "display_name": "py310",
   "language": "python",
   "name": "python3"
  },
  "language_info": {
   "codemirror_mode": {
    "name": "ipython",
    "version": 3
   },
   "file_extension": ".py",
   "mimetype": "text/x-python",
   "name": "python",
   "nbconvert_exporter": "python",
   "pygments_lexer": "ipython3",
   "version": "3.10.15"
  }
 },
 "nbformat": 4,
 "nbformat_minor": 2
}
